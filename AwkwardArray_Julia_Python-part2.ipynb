{
 "cells": [
  {
   "cell_type": "markdown",
   "id": "339e2b2b-a6ba-4f88-ae3e-ef6c87abc1d0",
   "metadata": {},
   "source": [
    "## Part 2: Embedding Julia into Python\n",
    "\n",
    "We can use PythonCall for integrating Python’s vast ecosystem into Julia projects and JuliaCall for embedding high-performance Julia code into Python scripts.\n",
    "\n",
    "You’ll see how easy it is to blend these languages and why it’s worth the effort."
   ]
  },
  {
   "cell_type": "code",
   "execution_count": null,
   "id": "7392febe-cc77-4a8b-9324-2e5e9d831afc",
   "metadata": {},
   "outputs": [],
   "source": [
    "from juliacall import Main as jl"
   ]
  },
  {
   "cell_type": "code",
   "execution_count": null,
   "id": "eca7bb8f-59df-4340-ba75-f40c8dd5b259",
   "metadata": {},
   "outputs": [],
   "source": [
    "%load_ext juliacall"
   ]
  },
  {
   "cell_type": "code",
   "execution_count": null,
   "id": "aaf0b731-c848-46dc-bba3-af36fc5da137",
   "metadata": {},
   "outputs": [],
   "source": [
    "%julia using Pkg"
   ]
  },
  {
   "cell_type": "code",
   "execution_count": null,
   "id": "9af7fb9d-c770-4cda-8414-bb0091b97e49",
   "metadata": {},
   "outputs": [],
   "source": [
    "%julia Pkg.add(\"UnROOT\")"
   ]
  },
  {
   "cell_type": "code",
   "execution_count": null,
   "id": "364af5a2-6ca8-476e-be43-28073876057e",
   "metadata": {},
   "outputs": [],
   "source": [
    "%julia using UnROOT"
   ]
  },
  {
   "cell_type": "code",
   "execution_count": null,
   "id": "1f36f4cc-72d0-4bc2-a36e-0b4f433ede92",
   "metadata": {},
   "outputs": [],
   "source": [
    "file = jl.Main.ROOTFile(\"./data/SMHiggsToZZTo4L.root\")"
   ]
  },
  {
   "cell_type": "code",
   "execution_count": null,
   "id": "f0e9beef-9bab-4449-b101-0f1f3b207040",
   "metadata": {},
   "outputs": [],
   "source": [
    "%%timeit\n",
    "jl.Main.ROOTFile(\"./data/SMHiggsToZZTo4L.root\")"
   ]
  },
  {
   "cell_type": "code",
   "execution_count": null,
   "id": "dfef8fc2-af6a-4020-9935-5c06ee75788e",
   "metadata": {},
   "outputs": [],
   "source": [
    "file"
   ]
  },
  {
   "cell_type": "code",
   "execution_count": null,
   "id": "a2cb9a3d-b347-4544-a938-e0da07676b59",
   "metadata": {},
   "outputs": [],
   "source": [
    "events = jl.Main.LazyTree(file, \"Events\")"
   ]
  },
  {
   "cell_type": "code",
   "execution_count": null,
   "id": "c2775987-0010-4962-9c89-ad9aaaf61fd0",
   "metadata": {},
   "outputs": [],
   "source": [
    "%%timeit\n",
    "jl.Main.LazyTree(file, \"Events\")"
   ]
  },
  {
   "cell_type": "code",
   "execution_count": null,
   "id": "80e6e6c2-8d50-4f6c-aa08-61d28834aaba",
   "metadata": {},
   "outputs": [],
   "source": [
    "jl.include('awkward_analyzer_functions.jl')"
   ]
  },
  {
   "cell_type": "markdown",
   "id": "dff7ffc5-7fd5-4433-884c-86d75f8891e5",
   "metadata": {},
   "source": [
    "```julia\n",
    "using AwkwardArray\n",
    "\n",
    "function make_record_array(events)\n",
    "    array = AwkwardArray.RecordArray(\n",
    "        NamedTuple{(:pt, :eta, :phi, :mass, :charge, :isolation)}((\n",
    "            AwkwardArray.from_iter(events.Muon_pt),\n",
    "            AwkwardArray.from_iter(events.Muon_eta), \n",
    "            AwkwardArray.from_iter(events.Muon_phi), \n",
    "            AwkwardArray.from_iter(events.Muon_mass), \n",
    "            AwkwardArray.from_iter(events.Muon_charge), \n",
    "            AwkwardArray.from_iter(events.Muon_pfRelIso03_all),\n",
    "        )\n",
    "    ))\n",
    "    return AwkwardArray.convert(array)\n",
    "end\n",
    "```"
   ]
  },
  {
   "cell_type": "code",
   "execution_count": null,
   "id": "48c502c6-d0f1-4a67-959d-5d47e3e9fcc9",
   "metadata": {},
   "outputs": [],
   "source": [
    "muons = jl.make_record_array(events)"
   ]
  },
  {
   "cell_type": "code",
   "execution_count": null,
   "id": "7ab844a3-d415-429d-a12c-2aeb190200db",
   "metadata": {},
   "outputs": [],
   "source": [
    "%%time\n",
    "jl.make_record_array(events)"
   ]
  },
  {
   "cell_type": "code",
   "execution_count": null,
   "id": "c7eb6615-cf74-4770-9156-0fa514607f82",
   "metadata": {},
   "outputs": [],
   "source": [
    "muons.show(type=True)"
   ]
  },
  {
   "cell_type": "code",
   "execution_count": null,
   "id": "71f71210-a899-4074-bb0c-bc93e9166f25",
   "metadata": {},
   "outputs": [],
   "source": [
    "import awkward as ak"
   ]
  },
  {
   "cell_type": "code",
   "execution_count": null,
   "id": "ee8d0cfb-cc1a-42fa-b3d4-1fa199bbb717",
   "metadata": {},
   "outputs": [],
   "source": [
    "muons = ak.zip({\n",
    "                \"pt\": muons.pt,\n",
    "                \"eta\": muons.eta,\n",
    "                \"phi\": muons.phi,\n",
    "                \"mass\": muons.mass,\n",
    "                \"charge\": muons.charge,\n",
    "                \"isolation\": muons.isolation,\n",
    "            },\n",
    "            with_name=\"PtEtaPhiMCandidate\",)"
   ]
  },
  {
   "cell_type": "code",
   "execution_count": null,
   "id": "ec7f1f7c-ba38-4c37-adb9-39ee66491702",
   "metadata": {},
   "outputs": [],
   "source": [
    "cutflow = dict()\n",
    "\n",
    "# Sort muons by transverse momentum\n",
    "muons = muons[ak.argsort(muons.pt, axis=1)]\n",
    "\n",
    "cutflow[\"all events\"] = ak.num(muons, axis=0)\n",
    "\n",
    "# Quality and minimum pt cuts\n",
    "muons = muons[(muons.pt > 5) & (muons.isolation < 0.2)]\n",
    "cutflow[\"at least 4 good muons\"] = ak.sum(ak.num(muons) >= 4)"
   ]
  },
  {
   "cell_type": "code",
   "execution_count": null,
   "id": "d4b55c7c-7cb8-4408-aaaa-f5ad2d100c7e",
   "metadata": {},
   "outputs": [],
   "source": [
    "# reduce first axis: skip events without enough muons\n",
    "muons = muons[ak.num(muons) >= 4]"
   ]
  },
  {
   "cell_type": "markdown",
   "id": "83022208-2f5e-49c7-b24e-d342c3fa8a6f",
   "metadata": {},
   "source": [
    "```julia\n",
    "four_muons = AwkwardArray.ListArray{\n",
    "    AwkwardArray.Index64,\n",
    "    AwkwardArray.ListArray{\n",
    "        AwkwardArray.Index64,\n",
    "        AwkwardArray.PrimitiveArray{Int64},\n",
    "    },\n",
    "}()\n",
    "\n",
    "function find_4lep(events_leptons)\n",
    "\n",
    "    for leptons in events_leptons\n",
    "        nlep = length(leptons)\n",
    "        for i0 in 1:nlep\n",
    "            for i1 in (i0 + 1):nlep\n",
    "                if leptons[i0][:charge] + leptons[i1][:charge] != 0\n",
    "                    continue\n",
    "                end\n",
    "                for i2 in 1:nlep\n",
    "                    for i3 in (i2 + 1):nlep\n",
    "                        if length(Set([i0, i1, i2, i3])) < 4\n",
    "                            continue\n",
    "                        end\n",
    "                        if leptons[i2][:charge] + leptons[i3][:charge] != 0\n",
    "                            continue\n",
    "                        end\n",
    "                        \n",
    "                        push!(four_muons.content.content, (i0 - 1)) # Julia is 1-based, subtract 1 for 0-based indexing\n",
    "                        push!(four_muons.content.content, (i1 - 1))\n",
    "                        push!(four_muons.content.content, (i2 - 1))\n",
    "                        push!(four_muons.content.content, (i3 - 1))\n",
    "                        AwkwardArray.end_list!(four_muons.content)\n",
    "                    end\n",
    "                end\n",
    "            end \n",
    "        end\n",
    "        AwkwardArray.end_list!(four_muons)\n",
    "    end\n",
    "    return four_muons\n",
    "end\n",
    "\n",
    "```"
   ]
  },
  {
   "cell_type": "code",
   "execution_count": null,
   "id": "0cecaa74-9d23-4223-bef3-616ce53ad7cb",
   "metadata": {},
   "outputs": [],
   "source": [
    "good_four_muons = jl.find_4lep(muons[1:10])"
   ]
  },
  {
   "cell_type": "code",
   "execution_count": null,
   "id": "bae4e004-5764-48ed-a58b-6e3736eac017",
   "metadata": {},
   "outputs": [],
   "source": [
    "good_four_muons = jl.find_4lep(muons)"
   ]
  },
  {
   "cell_type": "code",
   "execution_count": null,
   "id": "3aa38376-24b6-4dde-9a2f-d9bf5923fa6a",
   "metadata": {},
   "outputs": [],
   "source": [
    "%%time\n",
    "jl.find_4lep(muons)"
   ]
  },
  {
   "cell_type": "code",
   "execution_count": null,
   "id": "806ab526-c493-45c5-bea1-214daca87737",
   "metadata": {},
   "outputs": [],
   "source": [
    "fourmuon = jl.AwkwardArray.convert(good_four_muons)"
   ]
  },
  {
   "cell_type": "code",
   "execution_count": null,
   "id": "0733f409-81e7-4425-88d7-eb661c41731a",
   "metadata": {},
   "outputs": [],
   "source": [
    "fourmuon.show(type=True)"
   ]
  },
  {
   "cell_type": "markdown",
   "id": "0875b0e2-5fa2-476f-97f6-d40618782858",
   "metadata": {},
   "source": [
    "Let's go to the next [notebook](AwkwardArray_Julia_Python-part3.ipynb)."
   ]
  }
 ],
 "metadata": {
  "kernelspec": {
   "display_name": "Python 3 (ipykernel)",
   "language": "python",
   "name": "python3"
  },
  "language_info": {
   "codemirror_mode": {
    "name": "ipython",
    "version": 3
   },
   "file_extension": ".py",
   "mimetype": "text/x-python",
   "name": "python",
   "nbconvert_exporter": "python",
   "pygments_lexer": "ipython3",
   "version": "3.12.6"
  }
 },
 "nbformat": 4,
 "nbformat_minor": 5
}
