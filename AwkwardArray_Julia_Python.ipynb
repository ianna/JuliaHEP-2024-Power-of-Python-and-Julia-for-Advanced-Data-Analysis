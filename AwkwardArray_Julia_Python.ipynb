{
 "cells": [
  {
   "cell_type": "code",
   "execution_count": null,
   "id": "5f92cd1c-7776-4f7c-b4dc-caf01376f6c1",
   "metadata": {},
   "outputs": [],
   "source": [
    "import awkward as ak"
   ]
  },
  {
   "cell_type": "code",
   "execution_count": null,
   "id": "7392febe-cc77-4a8b-9324-2e5e9d831afc",
   "metadata": {},
   "outputs": [],
   "source": [
    "from juliacall import Main as jl"
   ]
  },
  {
   "cell_type": "markdown",
   "id": "fc372be6-5657-4233-aec1-525c71abf732",
   "metadata": {},
   "source": [
    "pip install parquet\n",
    "pip install pyarrow\n",
    "pip install pandas"
   ]
  },
  {
   "cell_type": "code",
   "execution_count": null,
   "id": "8e7f2a06-659a-469f-9690-e84368a61fba",
   "metadata": {},
   "outputs": [],
   "source": [
    "events = ak.from_parquet(\"./SMHiggsToZZTo4L.parquet\")"
   ]
  },
  {
   "cell_type": "code",
   "execution_count": null,
   "id": "75bb11ff-7281-4942-96ff-dcb5d70eecde",
   "metadata": {},
   "outputs": [],
   "source": [
    "events.muon"
   ]
  },
  {
   "cell_type": "code",
   "execution_count": null,
   "id": "c8bdcfb0-4a88-4112-b8d2-677c51f745ee",
   "metadata": {},
   "outputs": [],
   "source": [
    "muplus = events.muon[events.muon.charge > 0]\n",
    "muminus = events.muon[events.muon.charge < 0]"
   ]
  },
  {
   "cell_type": "code",
   "execution_count": null,
   "id": "ecf741bf-f4c8-4be0-bd69-c303ee5d6cfe",
   "metadata": {},
   "outputs": [],
   "source": [
    "mu1, mu2 = ak.unzip(ak.cartesian((muplus, muminus)))"
   ]
  },
  {
   "cell_type": "code",
   "execution_count": null,
   "id": "059365a3-ce72-468a-bc8d-45e705fedae3",
   "metadata": {},
   "outputs": [],
   "source": [
    "import matplotlib.pyplot as plt\n",
    "import numpy as np\n",
    "\n",
    "import vector\n",
    "vector.register_awkward()"
   ]
  },
  {
   "cell_type": "code",
   "execution_count": null,
   "id": "7eba90c1-7c21-4cbf-a1c7-b837155ff236",
   "metadata": {},
   "outputs": [],
   "source": [
    "plt.hist(ak.ravel(\n",
    "    \n",
    "    (mu1 + mu2).mass\n",
    "\n",
    "), bins=100, range=(0, 100));"
   ]
  }
 ],
 "metadata": {
  "kernelspec": {
   "display_name": "Python 3 (ipykernel)",
   "language": "python",
   "name": "python3"
  },
  "language_info": {
   "codemirror_mode": {
    "name": "ipython",
    "version": 3
   },
   "file_extension": ".py",
   "mimetype": "text/x-python",
   "name": "python",
   "nbconvert_exporter": "python",
   "pygments_lexer": "ipython3",
   "version": "3.12.2"
  }
 },
 "nbformat": 4,
 "nbformat_minor": 5
}
