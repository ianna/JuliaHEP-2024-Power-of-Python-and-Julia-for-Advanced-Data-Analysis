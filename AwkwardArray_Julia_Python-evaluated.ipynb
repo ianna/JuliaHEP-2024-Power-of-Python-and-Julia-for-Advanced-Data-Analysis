{
 "cells": [
  {
   "cell_type": "markdown",
   "id": "0862e7ab-3311-4eaf-a7bf-7c09b057e231",
   "metadata": {},
   "source": [
    "# Power of Python and Julia for Advanced Data Analysis\n",
    "\n",
    "Python and Julia are two powerful languages that are transforming data analysis in high-energy physics (HEP).\n",
    "\n",
    "Let's start by exploring why Python remains a go-to language for data analysis, and then pivot to Julia, which is gaining recognition for its impressive speed and suitability for scientific applications."
   ]
  },
  {
   "cell_type": "code",
   "execution_count": 1,
   "id": "5f92cd1c-7776-4f7c-b4dc-caf01376f6c1",
   "metadata": {},
   "outputs": [],
   "source": [
    "import awkward as ak"
   ]
  },
  {
   "cell_type": "markdown",
   "id": "fc372be6-5657-4233-aec1-525c71abf732",
   "metadata": {},
   "source": [
    "It is important to set your Python environment and install all needed Python packages first.\n",
    "\n",
    "For example, to read data from a Parquet file you will need:\n",
    "```\n",
    "pip install parquet\n",
    "pip install pyarrow\n",
    "pip install pandas\n",
    "```"
   ]
  },
  {
   "cell_type": "code",
   "execution_count": 2,
   "id": "8e7f2a06-659a-469f-9690-e84368a61fba",
   "metadata": {},
   "outputs": [],
   "source": [
    "events = ak.from_parquet(\"./data/SMHiggsToZZTo4L.parquet\")"
   ]
  },
  {
   "cell_type": "code",
   "execution_count": 3,
   "id": "75bb11ff-7281-4942-96ff-dcb5d70eecde",
   "metadata": {},
   "outputs": [
    {
     "data": {
      "text/html": [
       "<pre>[[{pt: 63, eta: -0.719, phi: 2.97, mass: 0.106, charge: 1, ...}, ..., {...}],\n",
       " [],\n",
       " [],\n",
       " [{pt: 54.3, eta: -1.06, phi: -0.362, mass: 0.106, charge: 1, ...}, ..., {...}],\n",
       " [],\n",
       " [{pt: 38.5, eta: 0.315, phi: 2.05, mass: 0.106, charge: -1, ...}, {...}],\n",
       " [{pt: 4.45, eta: -0.986, phi: 1.12, mass: 0.106, charge: 1, ...}],\n",
       " [],\n",
       " [],\n",
       " [],\n",
       " ...,\n",
       " [{pt: 37.2, eta: 1.1, phi: -0.875, mass: 0.106, charge: -1, ...}, {...}],\n",
       " [{pt: 43.2, eta: 2.15, phi: -1.3, mass: 0.106, charge: 1, ...}, {...}],\n",
       " [{pt: 24.2, eta: 0.327, phi: -0.997, mass: 0.106, charge: -1, ...}, ...],\n",
       " [],\n",
       " [{pt: 9.81, eta: 2.07, phi: 1.66, mass: 0.106, charge: 1, ...}, {...}],\n",
       " [{pt: 32.6, eta: 1.11, phi: -0.981, mass: 0.106, charge: 1, ...}, {...}],\n",
       " [{pt: 4.32, eta: -2.09, phi: 0.988, mass: 0.106, charge: 1, ...}, ..., {...}],\n",
       " [],\n",
       " []]\n",
       "--------------------------------------------------------------------------------\n",
       "type: 299973 * var * Momentum4D[\n",
       "    pt: float32,\n",
       "    eta: float32,\n",
       "    phi: float32,\n",
       "    mass: float32,\n",
       "    charge: int32,\n",
       "    pfRelIso03_all: float32,\n",
       "    pfRelIso04_all: float32,\n",
       "    dxy: float32,\n",
       "    dxyErr: float32,\n",
       "    dz: float32,\n",
       "    dzErr: float32\n",
       "]</pre>"
      ],
      "text/plain": [
       "<Array [[{pt: 63, eta: -0.719, ...}, ...], ...] type='299973 * var * Moment...'>"
      ]
     },
     "execution_count": 3,
     "metadata": {},
     "output_type": "execute_result"
    }
   ],
   "source": [
    "events.muon"
   ]
  },
  {
   "cell_type": "code",
   "execution_count": 4,
   "id": "c8bdcfb0-4a88-4112-b8d2-677c51f745ee",
   "metadata": {},
   "outputs": [],
   "source": [
    "muplus = events.muon[events.muon.charge > 0]\n",
    "muminus = events.muon[events.muon.charge < 0]"
   ]
  },
  {
   "cell_type": "code",
   "execution_count": 5,
   "id": "ecf741bf-f4c8-4be0-bd69-c303ee5d6cfe",
   "metadata": {},
   "outputs": [],
   "source": [
    "mu1, mu2 = ak.unzip(ak.cartesian((muplus, muminus)))"
   ]
  },
  {
   "cell_type": "code",
   "execution_count": 6,
   "id": "059365a3-ce72-468a-bc8d-45e705fedae3",
   "metadata": {},
   "outputs": [],
   "source": [
    "import matplotlib.pyplot as plt\n",
    "import numpy as np\n",
    "\n",
    "import vector\n",
    "vector.register_awkward()"
   ]
  },
  {
   "cell_type": "code",
   "execution_count": 7,
   "id": "7eba90c1-7c21-4cbf-a1c7-b837155ff236",
   "metadata": {},
   "outputs": [
    {
     "data": {
      "image/png": "[encoded data removed]",
      "text/plain": [
       "<Figure size 640x480 with 1 Axes>"
      ]
     },
     "metadata": {},
     "output_type": "display_data"
    }
   ],
   "source": [
    "plt.hist(ak.ravel(\n",
    "    \n",
    "    (mu1 + mu2).mass\n",
    "\n",
    "), bins=100, range=(0, 100));"
   ]
  },
  {
   "cell_type": "markdown",
   "id": "339e2b2b-a6ba-4f88-ae3e-ef6c87abc1d0",
   "metadata": {},
   "source": [
    "## Embedding Julia code into Python scripts\n",
    "\n",
    "We can use PythonCall for integrating Python’s vast ecosystem into Julia projects and JuliaCall for embedding high-performance Julia code into Python scripts.\n",
    "\n",
    "You’ll see how easy it is to blend these languages and why it’s worth the effort."
   ]
  },
  {
   "cell_type": "code",
   "execution_count": 8,
   "id": "7392febe-cc77-4a8b-9324-2e5e9d831afc",
   "metadata": {},
   "outputs": [
    {
     "name": "stdout",
     "output_type": "stream",
     "text": [
      "Detected IPython. Loading juliacall extension. See https://juliapy.github.io/PythonCall.jl/stable/compat/#IPython\n"
     ]
    }
   ],
   "source": [
    "from juliacall import Main as jl"
   ]
  },
  {
   "cell_type": "markdown",
   "id": "5fecea81-57e2-4a95-96c9-8edf04df97b1",
   "metadata": {},
   "source": [
    "### Data exchange between Julia and Python\n",
    "\n",
    "[AwkwardArray.jl](https://github.com/JuliaHEP/AwkwardArray.jl) package - Awkward Array in Julia mirrors the Python library, enabling effortless zero-copy data exchange between Julia and Python."
   ]
  },
  {
   "cell_type": "markdown",
   "id": "5f78e2df-768e-4a2f-ad8b-4d070121c527",
   "metadata": {},
   "source": [
    "#### 1. Write Julia code in a sepatate file:"
   ]
  },
  {
   "cell_type": "markdown",
   "id": "90ad0c4e-6278-427e-aeec-393fb086ca87",
   "metadata": {},
   "source": [
    "```julia\n",
    "using AwkwardArray\n",
    "\n",
    "function f1(x)\n",
    "  print(typeof(x))\n",
    "  return AwkwardArray.convert(x)\n",
    "end;\n",
    "```"
   ]
  },
  {
   "cell_type": "code",
   "execution_count": 9,
   "id": "63b51bac-f148-46b3-bf81-67a6a9e4cee2",
   "metadata": {},
   "outputs": [
    {
     "name": "stdout",
     "output_type": "stream",
     "text": [
      "using AwkwardArray\n",
      "\n",
      "function f1(x)\n",
      "  print(typeof(x))\n",
      "  return AwkwardArray.convert(x)\n",
      "end;"
     ]
    }
   ],
   "source": [
    "%cat test_funcs.jl"
   ]
  },
  {
   "cell_type": "markdown",
   "id": "f0e1ae53-1806-4b44-8d42-9948bb4a1d4a",
   "metadata": {},
   "source": [
    "#### 2. Include Julia code from a sepatate Julia file:"
   ]
  },
  {
   "cell_type": "code",
   "execution_count": 10,
   "id": "80bdb794-2089-4383-b184-53ab272a06f5",
   "metadata": {},
   "outputs": [
    {
     "data": {
      "text/plain": [
       "f1 (generic function with 1 method)"
      ]
     },
     "execution_count": 10,
     "metadata": {},
     "output_type": "execute_result"
    }
   ],
   "source": [
    "jl.include('test_funcs.jl')"
   ]
  },
  {
   "cell_type": "markdown",
   "id": "33273b36-fc66-4ec1-8611-ec56335432a6",
   "metadata": {},
   "source": [
    "#### Note: this is equivalent to executing the following two cells\n",
    "\n",
    "Julia code is written as Python strings."
   ]
  },
  {
   "cell_type": "code",
   "execution_count": 11,
   "id": "1ff7a81d-c8ef-4d3a-8597-4ac3bc2f9291",
   "metadata": {},
   "outputs": [],
   "source": [
    "jl.seval(\"using AwkwardArray\")"
   ]
  },
  {
   "cell_type": "markdown",
   "id": "a8557ce4-8dd0-48a2-a0d0-c2da8fe1abe2",
   "metadata": {},
   "source": [
    "Let's check the data type of data:"
   ]
  },
  {
   "cell_type": "code",
   "execution_count": 12,
   "id": "ac7dc325-54e9-451d-839f-2886572c11e6",
   "metadata": {},
   "outputs": [
    {
     "data": {
      "text/plain": [
       "f1 (generic function with 1 method)"
      ]
     },
     "execution_count": 12,
     "metadata": {},
     "output_type": "execute_result"
    }
   ],
   "source": [
    "jl.seval(\"\"\"\n",
    "function f1(x)\n",
    "  print(typeof(x))\n",
    "  return AwkwardArray.convert(x)\n",
    "end;\n",
    "\"\"\")"
   ]
  },
  {
   "cell_type": "markdown",
   "id": "c93509a8-4449-47fa-8380-44caf909d743",
   "metadata": {},
   "source": [
    "#### 3. Pass Python Awkward Array to Julia function:"
   ]
  },
  {
   "cell_type": "code",
   "execution_count": 13,
   "id": "bd41a9b2-e364-4fdb-9881-ffb3f1230019",
   "metadata": {},
   "outputs": [
    {
     "name": "stdout",
     "output_type": "stream",
     "text": [
      "type: 299973 * {\n",
      "    run: int32,\n",
      "    luminosityBlock: int64,\n",
      "    event: uint64,\n",
      "    PV: Vector3D[\n",
      "        x: float32,\n",
      "        y: float32,\n",
      "        z: float32\n",
      "    ],\n",
      "    electron: var * Momentum4D[\n",
      "        pt: float32,\n",
      "        eta: float32,\n",
      "        phi: float32,\n",
      "        mass: float32,\n",
      "        charge: int32,\n",
      "        pfRelIso03_all: float32,\n",
      "        dxy: float32,\n",
      "        dxyErr: float32,\n",
      "        dz: float32,\n",
      "        dzErr: float32\n",
      "    ],\n",
      "    muon: var * Momentum4D[\n",
      "        pt: float32,\n",
      "        eta: float32,\n",
      "        phi: float32,\n",
      "        mass: float32,\n",
      "        charge: int32,\n",
      "        pfRelIso03_all: float32,\n",
      "        pfRelIso04_all: float32,\n",
      "        dxy: float32,\n",
      "        dxyErr: float32,\n",
      "        dz: float32,\n",
      "        dzErr: float32\n",
      "    ],\n",
      "    MET: Momentum2D[\n",
      "        pt: float32,\n",
      "        phi: float32\n",
      "    ]\n",
      "}\n",
      "[{run: 1, luminosityBlock: 156, event: 46501, PV: {...}, electron: [], ...},\n",
      " {run: 1, luminosityBlock: 156, event: 46502, PV: {...}, electron: [...], ...},\n",
      " {run: 1, luminosityBlock: 156, event: 46503, PV: {...}, electron: [...], ...},\n",
      " {run: 1, luminosityBlock: 156, event: 46504, PV: {...}, electron: ..., ...},\n",
      " {run: 1, luminosityBlock: 156, event: 46505, PV: {...}, electron: [...], ...},\n",
      " {run: 1, luminosityBlock: 156, event: 46506, PV: {...}, electron: ..., ...},\n",
      " {run: 1, luminosityBlock: 156, event: 46507, PV: {...}, electron: ..., ...},\n",
      " {run: 1, luminosityBlock: 156, event: 46508, PV: {...}, electron: ..., ...},\n",
      " {run: 1, luminosityBlock: 156, event: 46509, PV: {...}, electron: [...], ...},\n",
      " {run: 1, luminosityBlock: 156, event: 46510, PV: {...}, electron: [], ...},\n",
      " ...,\n",
      " {run: 1, luminosityBlock: 996, event: 298792, PV: {...}, electron: [...], ...},\n",
      " {run: 1, luminosityBlock: 996, event: 298793, PV: {...}, electron: ..., ...},\n",
      " {run: 1, luminosityBlock: 996, event: 298794, PV: {...}, electron: [], ...},\n",
      " {run: 1, luminosityBlock: 996, event: 298795, PV: {...}, electron: [...], ...},\n",
      " {run: 1, luminosityBlock: 996, event: 298796, PV: {...}, electron: [], ...},\n",
      " {run: 1, luminosityBlock: 996, event: 298797, PV: {...}, electron: ..., ...},\n",
      " {run: 1, luminosityBlock: 996, event: 298798, PV: {...}, electron: [], ...},\n",
      " {run: 1, luminosityBlock: 996, event: 298799, PV: {...}, electron: [...], ...},\n",
      " {run: 1, luminosityBlock: 996, event: 298800, PV: {...}, electron: [...], ...}]\n"
     ]
    }
   ],
   "source": [
    "events.show(type=True)"
   ]
  },
  {
   "cell_type": "code",
   "execution_count": 14,
   "id": "acb82338-f210-423c-8a44-ab4051b9554f",
   "metadata": {},
   "outputs": [
    {
     "name": "stdout",
     "output_type": "stream",
     "text": [
      "AwkwardArray.RecordArray{(:run, :luminosityBlock, :event, :PV, :electron, :muon, :MET), Tuple{AwkwardArray.PrimitiveArray{Int32, SubArray{Int32, 1, Base.ReinterpretArray{Int32, 1, UInt8, Vector{UInt8}, false}, Tuple{UnitRange{Int64}}, true}, :default}, AwkwardArray.PrimitiveArray{Int64, SubArray{Int64, 1, Base.ReinterpretArray{Int64, 1, UInt8, Vector{UInt8}, false}, Tuple{UnitRange{Int64}}, true}, :default}, AwkwardArray.PrimitiveArray{Int64, SubArray{Int64, 1, Base.ReinterpretArray{Int64, 1, UInt8, Vector{UInt8}, false}, Tuple{UnitRange{Int64}}, true}, :default}, AwkwardArray.RecordArray{(:x, :y, :z), Tuple{AwkwardArray.PrimitiveArray{Float32, SubArray{Float32, 1, Base.ReinterpretArray{Float32, 1, UInt8, Vector{UInt8}, false}, Tuple{UnitRange{Int64}}, true}, :default}, AwkwardArray.PrimitiveArray{Float32, SubArray{Float32, 1, Base.ReinterpretArray{Float32, 1, UInt8, Vector{UInt8}, false}, Tuple{UnitRange{Int64}}, true}, :default}, AwkwardArray.PrimitiveArray{Float32, SubArray{Float32, 1, Base.ReinterpretArray{Float32, 1, UInt8, Vector{UInt8}, false}, Tuple{UnitRange{Int64}}, true}, :default}}, :Vector3D}, AwkwardArray.ListOffsetArray{SubArray{Int64, 1, Base.ReinterpretArray{Int64, 1, UInt8, Vector{UInt8}, false}, Tuple{UnitRange{Int64}}, true}, AwkwardArray.RecordArray{(:pt, :eta, :phi, :mass, :charge, :pfRelIso03_all, :dxy, :dxyErr, :dz, :dzErr), Tuple{AwkwardArray.PrimitiveArray{Float32, SubArray{Float32, 1, Base.ReinterpretArray{Float32, 1, UInt8, Vector{UInt8}, false}, Tuple{UnitRange{Int64}}, true}, :default}, AwkwardArray.PrimitiveArray{Float32, SubArray{Float32, 1, Base.ReinterpretArray{Float32, 1, UInt8, Vector{UInt8}, false}, Tuple{UnitRange{Int64}}, true}, :default}, AwkwardArray.PrimitiveArray{Float32, SubArray{Float32, 1, Base.ReinterpretArray{Float32, 1, UInt8, Vector{UInt8}, false}, Tuple{UnitRange{Int64}}, true}, :default}, AwkwardArray.PrimitiveArray{Float32, SubArray{Float32, 1, Base.ReinterpretArray{Float32, 1, UInt8, Vector{UInt8}, false}, Tuple{UnitRange{Int64}}, true}, :default}, AwkwardArray.PrimitiveArray{Int32, SubArray{Int32, 1, Base.ReinterpretArray{Int32, 1, UInt8, Vector{UInt8}, false}, Tuple{UnitRange{Int64}}, true}, :default}, Vararg{AwkwardArray.PrimitiveArray{Float32, SubArray{Float32, 1, Base.ReinterpretArray{Float32, 1, UInt8, Vector{UInt8}, false}, Tuple{UnitRange{Int64}}, true}, :default}, 5}}, :Momentum4D}, :default}, AwkwardArray.ListOffsetArray{SubArray{Int64, 1, Base.ReinterpretArray{Int64, 1, UInt8, Vector{UInt8}, false}, Tuple{UnitRange{Int64}}, true}, AwkwardArray.RecordArray{(:pt, :eta, :phi, :mass, :charge, :pfRelIso03_all, :pfRelIso04_all, :dxy, :dxyErr, :dz, :dzErr), Tuple{AwkwardArray.PrimitiveArray{Float32, SubArray{Float32, 1, Base.ReinterpretArray{Float32, 1, UInt8, Vector{UInt8}, false}, Tuple{UnitRange{Int64}}, true}, :default}, AwkwardArray.PrimitiveArray{Float32, SubArray{Float32, 1, Base.ReinterpretArray{Float32, 1, UInt8, Vector{UInt8}, false}, Tuple{UnitRange{Int64}}, true}, :default}, AwkwardArray.PrimitiveArray{Float32, SubArray{Float32, 1, Base.ReinterpretArray{Float32, 1, UInt8, Vector{UInt8}, false}, Tuple{UnitRange{Int64}}, true}, :default}, AwkwardArray.PrimitiveArray{Float32, SubArray{Float32, 1, Base.ReinterpretArray{Float32, 1, UInt8, Vector{UInt8}, false}, Tuple{UnitRange{Int64}}, true}, :default}, AwkwardArray.PrimitiveArray{Int32, SubArray{Int32, 1, Base.ReinterpretArray{Int32, 1, UInt8, Vector{UInt8}, false}, Tuple{UnitRange{Int64}}, true}, :default}, Vararg{AwkwardArray.PrimitiveArray{Float32, SubArray{Float32, 1, Base.ReinterpretArray{Float32, 1, UInt8, Vector{UInt8}, false}, Tuple{UnitRange{Int64}}, true}, :default}, 6}}, :Momentum4D}, :default}, AwkwardArray.RecordArray{(:pt, :phi), Tuple{AwkwardArray.PrimitiveArray{Float32, SubArray{Float32, 1, Base.ReinterpretArray{Float32, 1, UInt8, Vector{UInt8}, false}, Tuple{UnitRange{Int64}}, true}, :default}, AwkwardArray.PrimitiveArray{Float32, SubArray{Float32, 1, Base.ReinterpretArray{Float32, 1, UInt8, Vector{UInt8}, false}, Tuple{UnitRange{Int64}}, true}, :default}}, :Momentum2D}}, :default}"
     ]
    }
   ],
   "source": [
    "arr = jl.f1(events)"
   ]
  },
  {
   "cell_type": "code",
   "execution_count": 15,
   "id": "eddf566e-35a8-47ac-904a-0ae835e7b59a",
   "metadata": {},
   "outputs": [
    {
     "data": {
      "text/html": [
       "<pre>[{run: 1, luminosityBlock: 156, event: 46501, PV: {...}, electron: [], ...},\n",
       " {run: 1, luminosityBlock: 156, event: 46502, PV: {...}, electron: [...], ...},\n",
       " {run: 1, luminosityBlock: 156, event: 46503, PV: {...}, electron: [...], ...},\n",
       " {run: 1, luminosityBlock: 156, event: 46504, PV: {...}, electron: ..., ...},\n",
       " {run: 1, luminosityBlock: 156, event: 46505, PV: {...}, electron: [...], ...},\n",
       " {run: 1, luminosityBlock: 156, event: 46506, PV: {...}, electron: ..., ...},\n",
       " {run: 1, luminosityBlock: 156, event: 46507, PV: {...}, electron: ..., ...},\n",
       " {run: 1, luminosityBlock: 156, event: 46508, PV: {...}, electron: ..., ...},\n",
       " {run: 1, luminosityBlock: 156, event: 46509, PV: {...}, electron: [...], ...},\n",
       " {run: 1, luminosityBlock: 156, event: 46510, PV: {...}, electron: [], ...},\n",
       " ...,\n",
       " {run: 1, luminosityBlock: 996, event: 298792, PV: {...}, electron: [...], ...},\n",
       " {run: 1, luminosityBlock: 996, event: 298793, PV: {...}, electron: ..., ...},\n",
       " {run: 1, luminosityBlock: 996, event: 298794, PV: {...}, electron: [], ...},\n",
       " {run: 1, luminosityBlock: 996, event: 298795, PV: {...}, electron: [...], ...},\n",
       " {run: 1, luminosityBlock: 996, event: 298796, PV: {...}, electron: [], ...},\n",
       " {run: 1, luminosityBlock: 996, event: 298797, PV: {...}, electron: ..., ...},\n",
       " {run: 1, luminosityBlock: 996, event: 298798, PV: {...}, electron: [], ...},\n",
       " {run: 1, luminosityBlock: 996, event: 298799, PV: {...}, electron: [...], ...},\n",
       " {run: 1, luminosityBlock: 996, event: 298800, PV: {...}, electron: [...], ...}]\n",
       "--------------------------------------------------------------------------------\n",
       "type: 299973 * {\n",
       "    run: int32,\n",
       "    luminosityBlock: int64,\n",
       "    event: int64,\n",
       "    PV: Vector3D[\n",
       "        x: float32,\n",
       "        y: float32,\n",
       "        z: float32\n",
       "    ],\n",
       "    electron: var * Momentum4D[\n",
       "        pt: float32,\n",
       "        eta: float32,\n",
       "        phi: float32,\n",
       "        mass: float32,\n",
       "        charge: int32,\n",
       "        pfRelIso03_all: float32,\n",
       "        dxy: float32,\n",
       "        dxyErr: float32,\n",
       "        dz: float32,\n",
       "        dzErr: float32\n",
       "    ],\n",
       "    muon: var * Momentum4D[\n",
       "        pt: float32,\n",
       "        eta: float32,\n",
       "        phi: float32,\n",
       "        mass: float32,\n",
       "        charge: int32,\n",
       "        pfRelIso03_all: float32,\n",
       "        pfRelIso04_all: float32,\n",
       "        dxy: float32,\n",
       "        dxyErr: float32,\n",
       "        dz: float32,\n",
       "        dzErr: float32\n",
       "    ],\n",
       "    MET: Momentum2D[\n",
       "        pt: float32,\n",
       "        phi: float32\n",
       "    ]\n",
       "}</pre>"
      ],
      "text/plain": [
       "<Array [{run: 1, ...}, ..., {run: 1, ...}] type='299973 * {run: int32, lumi...'>"
      ]
     },
     "execution_count": 15,
     "metadata": {},
     "output_type": "execute_result"
    }
   ],
   "source": [
    "arr"
   ]
  },
  {
   "cell_type": "code",
   "execution_count": 16,
   "id": "8c0c99bc-38f3-4afd-bff7-ec16ef803651",
   "metadata": {},
   "outputs": [
    {
     "data": {
      "text/plain": [
       "awkward.highlevel.Array"
      ]
     },
     "execution_count": 16,
     "metadata": {},
     "output_type": "execute_result"
    }
   ],
   "source": [
    "type(arr)"
   ]
  },
  {
   "cell_type": "code",
   "execution_count": 17,
   "id": "7b35c64f-e316-46fc-8d32-db3056294cc6",
   "metadata": {},
   "outputs": [
    {
     "name": "stdout",
     "output_type": "stream",
     "text": [
      "type: 299973 * {\n",
      "    run: int32,\n",
      "    luminosityBlock: int64,\n",
      "    event: int64,\n",
      "    PV: Vector3D[\n",
      "        x: float32,\n",
      "        y: float32,\n",
      "        z: float32\n",
      "    ],\n",
      "    electron: var * Momentum4D[\n",
      "        pt: float32,\n",
      "        eta: float32,\n",
      "        phi: float32,\n",
      "        mass: float32,\n",
      "        charge: int32,\n",
      "        pfRelIso03_all: float32,\n",
      "        dxy: float32,\n",
      "        dxyErr: float32,\n",
      "        dz: float32,\n",
      "        dzErr: float32\n",
      "    ],\n",
      "    muon: var * Momentum4D[\n",
      "        pt: float32,\n",
      "        eta: float32,\n",
      "        phi: float32,\n",
      "        mass: float32,\n",
      "        charge: int32,\n",
      "        pfRelIso03_all: float32,\n",
      "        pfRelIso04_all: float32,\n",
      "        dxy: float32,\n",
      "        dxyErr: float32,\n",
      "        dz: float32,\n",
      "        dzErr: float32\n",
      "    ],\n",
      "    MET: Momentum2D[\n",
      "        pt: float32,\n",
      "        phi: float32\n",
      "    ]\n",
      "}\n",
      "[{run: 1, luminosityBlock: 156, event: 46501, PV: {...}, electron: [], ...},\n",
      " {run: 1, luminosityBlock: 156, event: 46502, PV: {...}, electron: [...], ...},\n",
      " {run: 1, luminosityBlock: 156, event: 46503, PV: {...}, electron: [...], ...},\n",
      " {run: 1, luminosityBlock: 156, event: 46504, PV: {...}, electron: ..., ...},\n",
      " {run: 1, luminosityBlock: 156, event: 46505, PV: {...}, electron: [...], ...},\n",
      " {run: 1, luminosityBlock: 156, event: 46506, PV: {...}, electron: ..., ...},\n",
      " {run: 1, luminosityBlock: 156, event: 46507, PV: {...}, electron: ..., ...},\n",
      " {run: 1, luminosityBlock: 156, event: 46508, PV: {...}, electron: ..., ...},\n",
      " {run: 1, luminosityBlock: 156, event: 46509, PV: {...}, electron: [...], ...},\n",
      " {run: 1, luminosityBlock: 156, event: 46510, PV: {...}, electron: [], ...},\n",
      " ...,\n",
      " {run: 1, luminosityBlock: 996, event: 298792, PV: {...}, electron: [...], ...},\n",
      " {run: 1, luminosityBlock: 996, event: 298793, PV: {...}, electron: ..., ...},\n",
      " {run: 1, luminosityBlock: 996, event: 298794, PV: {...}, electron: [], ...},\n",
      " {run: 1, luminosityBlock: 996, event: 298795, PV: {...}, electron: [...], ...},\n",
      " {run: 1, luminosityBlock: 996, event: 298796, PV: {...}, electron: [], ...},\n",
      " {run: 1, luminosityBlock: 996, event: 298797, PV: {...}, electron: ..., ...},\n",
      " {run: 1, luminosityBlock: 996, event: 298798, PV: {...}, electron: [], ...},\n",
      " {run: 1, luminosityBlock: 996, event: 298799, PV: {...}, electron: [...], ...},\n",
      " {run: 1, luminosityBlock: 996, event: 298800, PV: {...}, electron: [...], ...}]\n"
     ]
    }
   ],
   "source": [
    "arr.show(type=True)"
   ]
  },
  {
   "cell_type": "markdown",
   "id": "48bb832e-d86f-42d1-8aad-1635264aeaa1",
   "metadata": {},
   "source": [
    "## Faster, more efficient data processing\n",
    "\n",
    "Let's combine Python and Julia:"
   ]
  },
  {
   "cell_type": "code",
   "execution_count": 18,
   "id": "eab4b597-e450-4132-9a46-e5feb6b71e08",
   "metadata": {},
   "outputs": [],
   "source": [
    "one_event = jl.first(events)"
   ]
  },
  {
   "cell_type": "code",
   "execution_count": 19,
   "id": "e64dc322-7dbd-42e6-937a-d2af7320fb51",
   "metadata": {},
   "outputs": [
    {
     "data": {
      "text/plain": [
       "{run: 1, luminosityBlock: 156, event: 46501, PV: {x: ..., ...}, ...}"
      ]
     },
     "execution_count": 19,
     "metadata": {},
     "output_type": "execute_result"
    }
   ],
   "source": [
    "one_event"
   ]
  },
  {
   "cell_type": "code",
   "execution_count": 20,
   "id": "4d285ad4-bd51-445c-8f51-6aa1859324e6",
   "metadata": {},
   "outputs": [
    {
     "data": {
      "text/plain": [
       "juliacall.AnyValue"
      ]
     },
     "execution_count": 20,
     "metadata": {},
     "output_type": "execute_result"
    }
   ],
   "source": [
    "type(one_event)"
   ]
  },
  {
   "cell_type": "code",
   "execution_count": 21,
   "id": "c03a86ed-a68c-4e50-bccc-90cf77b7c64d",
   "metadata": {},
   "outputs": [],
   "source": [
    "jl.one_event = one_event"
   ]
  },
  {
   "cell_type": "code",
   "execution_count": 22,
   "id": "722748e5-ab8f-4784-a091-bbccdfa34ca7",
   "metadata": {},
   "outputs": [
    {
     "data": {
      "text/html": [
       "<pre>[[{pt: 63, eta: -0.719, phi: 2.97, mass: 0.106, charge: 1, ...}, ..., {...}],\n",
       " [],\n",
       " [],\n",
       " [{pt: 54.3, eta: -1.06, phi: -0.362, mass: 0.106, charge: 1, ...}, ..., {...}],\n",
       " [],\n",
       " [{pt: 38.5, eta: 0.315, phi: 2.05, mass: 0.106, charge: -1, ...}, {...}],\n",
       " [{pt: 4.45, eta: -0.986, phi: 1.12, mass: 0.106, charge: 1, ...}],\n",
       " [],\n",
       " [],\n",
       " [],\n",
       " ...,\n",
       " [{pt: 37.2, eta: 1.1, phi: -0.875, mass: 0.106, charge: -1, ...}, {...}],\n",
       " [{pt: 43.2, eta: 2.15, phi: -1.3, mass: 0.106, charge: 1, ...}, {...}],\n",
       " [{pt: 24.2, eta: 0.327, phi: -0.997, mass: 0.106, charge: -1, ...}, ...],\n",
       " [],\n",
       " [{pt: 9.81, eta: 2.07, phi: 1.66, mass: 0.106, charge: 1, ...}, {...}],\n",
       " [{pt: 32.6, eta: 1.11, phi: -0.981, mass: 0.106, charge: 1, ...}, {...}],\n",
       " [{pt: 4.32, eta: -2.09, phi: 0.988, mass: 0.106, charge: 1, ...}, ..., {...}],\n",
       " [],\n",
       " []]\n",
       "--------------------------------------------------------------------------------\n",
       "type: 299973 * var * Momentum4D[\n",
       "    pt: float32,\n",
       "    eta: float32,\n",
       "    phi: float32,\n",
       "    mass: float32,\n",
       "    charge: int32,\n",
       "    pfRelIso03_all: float32,\n",
       "    pfRelIso04_all: float32,\n",
       "    dxy: float32,\n",
       "    dxyErr: float32,\n",
       "    dz: float32,\n",
       "    dzErr: float32\n",
       "]</pre>"
      ],
      "text/plain": [
       "<MomentumArray4D [[{pt: 63, eta: -0.719, ...}, ...], ...] type='299973 * va...'>"
      ]
     },
     "execution_count": 22,
     "metadata": {},
     "output_type": "execute_result"
    }
   ],
   "source": [
    "events.muon"
   ]
  },
  {
   "cell_type": "code",
   "execution_count": 23,
   "id": "b701d8f2-3c4e-46fb-b860-281e8bb2ab7e",
   "metadata": {},
   "outputs": [],
   "source": [
    "jl.Muon_pt = events.muon.pt"
   ]
  },
  {
   "cell_type": "code",
   "execution_count": 24,
   "id": "5f0cbe52-ce81-474a-b374-8d86f2e1235e",
   "metadata": {},
   "outputs": [],
   "source": [
    "jl.Muon_eta = events.muon.eta"
   ]
  },
  {
   "cell_type": "code",
   "execution_count": 25,
   "id": "7c84db66-867a-40d9-bf24-c7b25f33e081",
   "metadata": {},
   "outputs": [],
   "source": [
    "jl.Muon_phi = events.muon.phi"
   ]
  },
  {
   "cell_type": "code",
   "execution_count": 26,
   "id": "15306751-0821-4c13-9818-665e85ca96bd",
   "metadata": {},
   "outputs": [],
   "source": [
    "jl.Muon_mass = events.muon.mass"
   ]
  },
  {
   "cell_type": "code",
   "execution_count": 27,
   "id": "26a53268-ebe0-4e79-b871-d8526b9133cc",
   "metadata": {},
   "outputs": [],
   "source": [
    "jl.Muon_charge = events.muon.charge"
   ]
  },
  {
   "cell_type": "code",
   "execution_count": 28,
   "id": "f957b4e6-93f4-432d-b47e-35b88a3ac93a",
   "metadata": {},
   "outputs": [
    {
     "data": {
      "text/plain": [
       "299973-element AwkwardArray.ListOffsetArray{SubArray{Int64, 1, Base.ReinterpretArray{Int64, 1, UInt8, Vector{UInt8}, false}, Tuple{UnitRange{Int64}}, true}, AwkwardArray.PrimitiveArray{Float32, SubArray{Float32, 1, Base.ReinterpretArray{Float32, 1, UInt8, Vector{UInt8}, false}, Tuple{UnitRange{Int64}}, true}, :default}, :default}:\n",
       " [63.04387f0, 38.120346f0, 4.0486875f0]\n",
       " 0-element AwkwardArray.PrimitiveArray{Float32, Vector{Float32}, :default}\n",
       " 0-element AwkwardArray.PrimitiveArray{Float32, Vector{Float32}, :default}\n",
       " [54.33275f0, 23.515282f0, 52.871075f0, ..., 8.393386f0, 3.4901235f0]\n",
       " 0-element AwkwardArray.PrimitiveArray{Float32, Vector{Float32}, :default}\n",
       " [38.503757f0, 47.00221f0]\n",
       " [4.453538f0]\n",
       " 0-element AwkwardArray.PrimitiveArray{Float32, Vector{Float32}, :default}\n",
       " 0-element AwkwardArray.PrimitiveArray{Float32, Vector{Float32}, :default}\n",
       " 0-element AwkwardArray.PrimitiveArray{Float32, Vector{Float32}, :default}\n",
       " ⋮\n",
       " [37.18836f0, 50.064648f0]\n",
       " [43.15527f0, 23.953928f0]\n",
       " [24.249857f0, 79.544136f0]\n",
       " 0-element AwkwardArray.PrimitiveArray{Float32, Vector{Float32}, :default}\n",
       " [9.8097515f0, 25.515368f0]\n",
       " [32.55726f0, 43.079132f0]\n",
       " [4.3161483f0, 4.3587666f0, 5.632667f0, 4.7507796f0]\n",
       " 0-element AwkwardArray.PrimitiveArray{Float32, Vector{Float32}, :default}\n",
       " 0-element AwkwardArray.PrimitiveArray{Float32, Vector{Float32}, :default}"
      ]
     },
     "execution_count": 28,
     "metadata": {},
     "output_type": "execute_result"
    }
   ],
   "source": [
    "jl.Muon_pt"
   ]
  },
  {
   "cell_type": "code",
   "execution_count": 29,
   "id": "d7e49a0b-cf41-4236-9d7a-f81d9d5ab02e",
   "metadata": {},
   "outputs": [
    {
     "data": {
      "text/plain": [
       "4-element AwkwardArray.ListOffsetArray{Vector{Int64}, AwkwardArray.PrimitiveArray{Int32, SubArray{Int32, 1, Base.ReinterpretArray{Int32, 1, UInt8, Vector{UInt8}, false}, Tuple{UnitRange{Int64}}, true}, :default}, :default}:\n",
       " [1, -1, 1]\n",
       " 0-element AwkwardArray.PrimitiveArray{Int32, Vector{Int32}, :default}\n",
       " 0-element AwkwardArray.PrimitiveArray{Int32, Vector{Int32}, :default}\n",
       " [1, -1, -1, 1, -1, -1, 1]"
      ]
     },
     "execution_count": 29,
     "metadata": {},
     "output_type": "execute_result"
    }
   ],
   "source": [
    "jl.first(events.muon.charge, 4)"
   ]
  },
  {
   "cell_type": "markdown",
   "id": "ddc76b79-126a-4b86-999b-8d673ae1c994",
   "metadata": {},
   "source": [
    "Awkward Array implements the convertion rules between Python and Julia Awkward types:"
   ]
  },
  {
   "cell_type": "code",
   "execution_count": 30,
   "id": "5afe3d72-526b-4041-a1e5-74c1752390c4",
   "metadata": {},
   "outputs": [],
   "source": [
    "events_from_julia = jl.AwkwardArray.convert(events)"
   ]
  },
  {
   "cell_type": "code",
   "execution_count": 31,
   "id": "c6bcb293-046b-451e-a54c-d8d353ab20ed",
   "metadata": {},
   "outputs": [
    {
     "data": {
      "text/plain": [
       "awkward.highlevel.Array"
      ]
     },
     "execution_count": 31,
     "metadata": {},
     "output_type": "execute_result"
    }
   ],
   "source": [
    "type(events_from_julia)"
   ]
  },
  {
   "cell_type": "code",
   "execution_count": 32,
   "id": "aa7b3300-0ce2-437b-bdd0-553a4d703579",
   "metadata": {},
   "outputs": [
    {
     "name": "stdout",
     "output_type": "stream",
     "text": [
      "type: 299973 * {\n",
      "    run: int32,\n",
      "    luminosityBlock: int64,\n",
      "    event: int64,\n",
      "    PV: Vector3D[\n",
      "        x: float32,\n",
      "        y: float32,\n",
      "        z: float32\n",
      "    ],\n",
      "    electron: var * Momentum4D[\n",
      "        pt: float32,\n",
      "        eta: float32,\n",
      "        phi: float32,\n",
      "        mass: float32,\n",
      "        charge: int32,\n",
      "        pfRelIso03_all: float32,\n",
      "        dxy: float32,\n",
      "        dxyErr: float32,\n",
      "        dz: float32,\n",
      "        dzErr: float32\n",
      "    ],\n",
      "    muon: var * Momentum4D[\n",
      "        pt: float32,\n",
      "        eta: float32,\n",
      "        phi: float32,\n",
      "        mass: float32,\n",
      "        charge: int32,\n",
      "        pfRelIso03_all: float32,\n",
      "        pfRelIso04_all: float32,\n",
      "        dxy: float32,\n",
      "        dxyErr: float32,\n",
      "        dz: float32,\n",
      "        dzErr: float32\n",
      "    ],\n",
      "    MET: Momentum2D[\n",
      "        pt: float32,\n",
      "        phi: float32\n",
      "    ]\n",
      "}\n",
      "[{run: 1, luminosityBlock: 156, event: 46501, PV: {...}, electron: [], ...},\n",
      " {run: 1, luminosityBlock: 156, event: 46502, PV: {...}, electron: [...], ...},\n",
      " {run: 1, luminosityBlock: 156, event: 46503, PV: {...}, electron: [...], ...},\n",
      " {run: 1, luminosityBlock: 156, event: 46504, PV: {...}, electron: ..., ...},\n",
      " {run: 1, luminosityBlock: 156, event: 46505, PV: {...}, electron: [...], ...},\n",
      " {run: 1, luminosityBlock: 156, event: 46506, PV: {...}, electron: ..., ...},\n",
      " {run: 1, luminosityBlock: 156, event: 46507, PV: {...}, electron: ..., ...},\n",
      " {run: 1, luminosityBlock: 156, event: 46508, PV: {...}, electron: ..., ...},\n",
      " {run: 1, luminosityBlock: 156, event: 46509, PV: {...}, electron: [...], ...},\n",
      " {run: 1, luminosityBlock: 156, event: 46510, PV: {...}, electron: [], ...},\n",
      " ...,\n",
      " {run: 1, luminosityBlock: 996, event: 298792, PV: {...}, electron: [...], ...},\n",
      " {run: 1, luminosityBlock: 996, event: 298793, PV: {...}, electron: ..., ...},\n",
      " {run: 1, luminosityBlock: 996, event: 298794, PV: {...}, electron: [], ...},\n",
      " {run: 1, luminosityBlock: 996, event: 298795, PV: {...}, electron: [...], ...},\n",
      " {run: 1, luminosityBlock: 996, event: 298796, PV: {...}, electron: [], ...},\n",
      " {run: 1, luminosityBlock: 996, event: 298797, PV: {...}, electron: ..., ...},\n",
      " {run: 1, luminosityBlock: 996, event: 298798, PV: {...}, electron: [], ...},\n",
      " {run: 1, luminosityBlock: 996, event: 298799, PV: {...}, electron: [...], ...},\n",
      " {run: 1, luminosityBlock: 996, event: 298800, PV: {...}, electron: [...], ...}]\n"
     ]
    }
   ],
   "source": [
    "events_from_julia.show(type=True)"
   ]
  },
  {
   "cell_type": "code",
   "execution_count": 33,
   "id": "10903d12-a6de-41a0-b533-bfe3710f909b",
   "metadata": {},
   "outputs": [
    {
     "name": "stdout",
     "output_type": "stream",
     "text": [
      "type: 299973 * var * Momentum4D[\n",
      "    pt: float32,\n",
      "    eta: float32,\n",
      "    phi: float32,\n",
      "    mass: float32,\n",
      "    charge: int32,\n",
      "    pfRelIso03_all: float32,\n",
      "    pfRelIso04_all: float32,\n",
      "    dxy: float32,\n",
      "    dxyErr: float32,\n",
      "    dz: float32,\n",
      "    dzErr: float32\n",
      "]\n",
      "[[{pt: 63, eta: -0.719, phi: 2.97, mass: 0.106, charge: 1, ...}, ..., {...}],\n",
      " [],\n",
      " [],\n",
      " [{pt: 54.3, eta: -1.06, phi: -0.362, mass: 0.106, charge: 1, ...}, ..., {...}],\n",
      " [],\n",
      " [{pt: 38.5, eta: 0.315, phi: 2.05, mass: 0.106, charge: -1, ...}, {...}],\n",
      " [{pt: 4.45, eta: -0.986, phi: 1.12, mass: 0.106, charge: 1, ...}],\n",
      " [],\n",
      " [],\n",
      " [],\n",
      " ...,\n",
      " [{pt: 37.2, eta: 1.1, phi: -0.875, mass: 0.106, charge: -1, ...}, {...}],\n",
      " [{pt: 43.2, eta: 2.15, phi: -1.3, mass: 0.106, charge: 1, ...}, {...}],\n",
      " [{pt: 24.2, eta: 0.327, phi: -0.997, mass: 0.106, charge: -1, ...}, ...],\n",
      " [],\n",
      " [{pt: 9.81, eta: 2.07, phi: 1.66, mass: 0.106, charge: 1, ...}, {...}],\n",
      " [{pt: 32.6, eta: 1.11, phi: -0.981, mass: 0.106, charge: 1, ...}, {...}],\n",
      " [{pt: 4.32, eta: -2.09, phi: 0.988, mass: 0.106, charge: 1, ...}, ..., {...}],\n",
      " [],\n",
      " []]\n"
     ]
    }
   ],
   "source": [
    "events.muon.show(type=True)"
   ]
  },
  {
   "cell_type": "code",
   "execution_count": null,
   "id": "2e1c33ce-0ee4-4b00-8832-6a96ec7be19f",
   "metadata": {},
   "outputs": [],
   "source": []
  },
  {
   "cell_type": "code",
   "execution_count": null,
   "id": "bec4df52-1314-4c4d-8059-6d218e757f35",
   "metadata": {},
   "outputs": [],
   "source": []
  }
 ],
 "metadata": {
  "kernelspec": {
   "display_name": "Python 3 (ipykernel)",
   "language": "python",
   "name": "python3"
  },
  "language_info": {
   "codemirror_mode": {
    "name": "ipython",
    "version": 3
   },
   "file_extension": ".py",
   "mimetype": "text/x-python",
   "name": "python",
   "nbconvert_exporter": "python",
   "pygments_lexer": "ipython3",
   "version": "3.12.6"
  }
 },
 "nbformat": 4,
 "nbformat_minor": 5
}
