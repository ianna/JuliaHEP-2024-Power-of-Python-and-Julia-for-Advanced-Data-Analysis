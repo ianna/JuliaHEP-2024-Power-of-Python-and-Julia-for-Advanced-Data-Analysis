{
 "cells": [
  {
   "cell_type": "markdown",
   "id": "5fecea81-57e2-4a95-96c9-8edf04df97b1",
   "metadata": {},
   "source": [
    "## Part 3: Data exchange between Julia and Python\n",
    "\n",
    "[AwkwardArray.jl](https://github.com/JuliaHEP/AwkwardArray.jl) package - Awkward Array in Julia mirrors the Python library, enabling effortless zero-copy data exchange between Julia and Python."
   ]
  },
  {
   "cell_type": "code",
   "execution_count": null,
   "id": "4fee9507-bb91-42de-86f1-fb83fbb31cdf",
   "metadata": {},
   "outputs": [],
   "source": [
    "from juliacall import Main as jl"
   ]
  },
  {
   "cell_type": "markdown",
   "id": "5f78e2df-768e-4a2f-ad8b-4d070121c527",
   "metadata": {},
   "source": [
    "#### 1. Write Julia code in a sepatate file:"
   ]
  },
  {
   "cell_type": "markdown",
   "id": "90ad0c4e-6278-427e-aeec-393fb086ca87",
   "metadata": {},
   "source": [
    "```julia\n",
    "using AwkwardArray\n",
    "\n",
    "function f1(x)\n",
    "  print(typeof(x))\n",
    "  return AwkwardArray.convert(x)\n",
    "end;\n",
    "```"
   ]
  },
  {
   "cell_type": "code",
   "execution_count": null,
   "id": "63b51bac-f148-46b3-bf81-67a6a9e4cee2",
   "metadata": {},
   "outputs": [],
   "source": [
    "%cat test_funcs.jl"
   ]
  },
  {
   "cell_type": "markdown",
   "id": "f0e1ae53-1806-4b44-8d42-9948bb4a1d4a",
   "metadata": {},
   "source": [
    "#### 2. Include Julia code from a sepatate Julia file:"
   ]
  },
  {
   "cell_type": "code",
   "execution_count": null,
   "id": "bf440da1-2cbe-423a-9c72-9f7b1fa662b8",
   "metadata": {},
   "outputs": [],
   "source": [
    "jl.include('test_funcs.jl')"
   ]
  },
  {
   "cell_type": "markdown",
   "id": "33273b36-fc66-4ec1-8611-ec56335432a6",
   "metadata": {},
   "source": [
    "#### Note: this is equivalent to executing the following two cells\n",
    "\n",
    "Julia code is written as Python strings."
   ]
  },
  {
   "cell_type": "raw",
   "id": "420d8d90-8b92-44b9-8ccf-1378c4190951",
   "metadata": {},
   "source": [
    "jl.seval(\"using AwkwardArray\")"
   ]
  },
  {
   "cell_type": "raw",
   "id": "8f339127-995f-4213-be4d-ea1fe694d124",
   "metadata": {},
   "source": [
    "jl.seval(\"\"\"\n",
    "function f1(x)\n",
    "  print(typeof(x))\n",
    "  return AwkwardArray.convert(x)\n",
    "end;\n",
    "\"\"\")"
   ]
  },
  {
   "cell_type": "markdown",
   "id": "c93509a8-4449-47fa-8380-44caf909d743",
   "metadata": {},
   "source": [
    "#### 3. Pass Python Awkward Array to Julia function:"
   ]
  },
  {
   "cell_type": "code",
   "execution_count": null,
   "id": "3946d5a2-f383-4871-8be8-1de87ff137ce",
   "metadata": {},
   "outputs": [],
   "source": [
    "import awkward as ak\n",
    "events = ak.from_parquet(\"./data/SMHiggsToZZTo4L.parquet\")"
   ]
  },
  {
   "cell_type": "markdown",
   "id": "a8557ce4-8dd0-48a2-a0d0-c2da8fe1abe2",
   "metadata": {},
   "source": [
    "Let's check the data type:"
   ]
  },
  {
   "cell_type": "code",
   "execution_count": null,
   "id": "bd41a9b2-e364-4fdb-9881-ffb3f1230019",
   "metadata": {},
   "outputs": [],
   "source": [
    "events.show(type=True)"
   ]
  },
  {
   "cell_type": "code",
   "execution_count": null,
   "id": "acb82338-f210-423c-8a44-ab4051b9554f",
   "metadata": {},
   "outputs": [],
   "source": [
    "arr = jl.f1(events)"
   ]
  },
  {
   "cell_type": "code",
   "execution_count": null,
   "id": "eddf566e-35a8-47ac-904a-0ae835e7b59a",
   "metadata": {},
   "outputs": [],
   "source": [
    "arr"
   ]
  },
  {
   "cell_type": "code",
   "execution_count": null,
   "id": "8c0c99bc-38f3-4afd-bff7-ec16ef803651",
   "metadata": {},
   "outputs": [],
   "source": [
    "type(arr)"
   ]
  },
  {
   "cell_type": "code",
   "execution_count": null,
   "id": "7b35c64f-e316-46fc-8d32-db3056294cc6",
   "metadata": {},
   "outputs": [],
   "source": [
    "arr.show(type=True)"
   ]
  },
  {
   "cell_type": "markdown",
   "id": "48bb832e-d86f-42d1-8aad-1635264aeaa1",
   "metadata": {},
   "source": [
    "## Faster, more efficient data processing\n",
    "\n",
    "Let's combine Python and Julia:"
   ]
  },
  {
   "cell_type": "code",
   "execution_count": null,
   "id": "eab4b597-e450-4132-9a46-e5feb6b71e08",
   "metadata": {},
   "outputs": [],
   "source": [
    "one_event = jl.first(events)"
   ]
  },
  {
   "cell_type": "code",
   "execution_count": null,
   "id": "e64dc322-7dbd-42e6-937a-d2af7320fb51",
   "metadata": {},
   "outputs": [],
   "source": [
    "one_event"
   ]
  },
  {
   "cell_type": "code",
   "execution_count": null,
   "id": "4d285ad4-bd51-445c-8f51-6aa1859324e6",
   "metadata": {},
   "outputs": [],
   "source": [
    "type(one_event)"
   ]
  },
  {
   "cell_type": "code",
   "execution_count": null,
   "id": "c03a86ed-a68c-4e50-bccc-90cf77b7c64d",
   "metadata": {},
   "outputs": [],
   "source": [
    "jl.one_event = one_event"
   ]
  },
  {
   "cell_type": "code",
   "execution_count": null,
   "id": "722748e5-ab8f-4784-a091-bbccdfa34ca7",
   "metadata": {},
   "outputs": [],
   "source": [
    "events.muon"
   ]
  },
  {
   "cell_type": "code",
   "execution_count": null,
   "id": "b701d8f2-3c4e-46fb-b860-281e8bb2ab7e",
   "metadata": {},
   "outputs": [],
   "source": [
    "jl.Muon_pt = events.muon.pt"
   ]
  },
  {
   "cell_type": "code",
   "execution_count": null,
   "id": "5f0cbe52-ce81-474a-b374-8d86f2e1235e",
   "metadata": {},
   "outputs": [],
   "source": [
    "jl.Muon_eta = events.muon.eta"
   ]
  },
  {
   "cell_type": "code",
   "execution_count": null,
   "id": "7c84db66-867a-40d9-bf24-c7b25f33e081",
   "metadata": {},
   "outputs": [],
   "source": [
    "jl.Muon_phi = events.muon.phi"
   ]
  },
  {
   "cell_type": "code",
   "execution_count": null,
   "id": "15306751-0821-4c13-9818-665e85ca96bd",
   "metadata": {},
   "outputs": [],
   "source": [
    "jl.Muon_mass = events.muon.mass"
   ]
  },
  {
   "cell_type": "code",
   "execution_count": null,
   "id": "26a53268-ebe0-4e79-b871-d8526b9133cc",
   "metadata": {},
   "outputs": [],
   "source": [
    "jl.Muon_charge = events.muon.charge"
   ]
  },
  {
   "cell_type": "code",
   "execution_count": null,
   "id": "f957b4e6-93f4-432d-b47e-35b88a3ac93a",
   "metadata": {},
   "outputs": [],
   "source": [
    "jl.Muon_pt"
   ]
  },
  {
   "cell_type": "code",
   "execution_count": null,
   "id": "d7e49a0b-cf41-4236-9d7a-f81d9d5ab02e",
   "metadata": {},
   "outputs": [],
   "source": [
    "jl.first(events.muon.charge, 4)"
   ]
  },
  {
   "cell_type": "markdown",
   "id": "ddc76b79-126a-4b86-999b-8d673ae1c994",
   "metadata": {},
   "source": [
    "Awkward Array implements the convertion rules between Python and Julia Awkward types:"
   ]
  },
  {
   "cell_type": "code",
   "execution_count": null,
   "id": "5afe3d72-526b-4041-a1e5-74c1752390c4",
   "metadata": {},
   "outputs": [],
   "source": [
    "events_from_julia = jl.AwkwardArray.convert(events)"
   ]
  },
  {
   "cell_type": "code",
   "execution_count": null,
   "id": "c6bcb293-046b-451e-a54c-d8d353ab20ed",
   "metadata": {},
   "outputs": [],
   "source": [
    "type(events_from_julia)"
   ]
  },
  {
   "cell_type": "code",
   "execution_count": null,
   "id": "aa7b3300-0ce2-437b-bdd0-553a4d703579",
   "metadata": {},
   "outputs": [],
   "source": [
    "events_from_julia.show(type=True)"
   ]
  },
  {
   "cell_type": "code",
   "execution_count": null,
   "id": "10903d12-a6de-41a0-b533-bfe3710f909b",
   "metadata": {},
   "outputs": [],
   "source": [
    "events.muon.show(type=True)"
   ]
  },
  {
   "cell_type": "markdown",
   "id": "9e940afd-b088-4633-b055-d82b56c5ff3b",
   "metadata": {},
   "source": [
    "Let's go to the next [notebook](AwkwardArray_Julia_Python-part4.ipynb)."
   ]
  }
 ],
 "metadata": {
  "kernelspec": {
   "display_name": "Python 3 (ipykernel)",
   "language": "python",
   "name": "python3"
  },
  "language_info": {
   "codemirror_mode": {
    "name": "ipython",
    "version": 3
   },
   "file_extension": ".py",
   "mimetype": "text/x-python",
   "name": "python",
   "nbconvert_exporter": "python",
   "pygments_lexer": "ipython3",
   "version": "3.12.6"
  }
 },
 "nbformat": 4,
 "nbformat_minor": 5
}
