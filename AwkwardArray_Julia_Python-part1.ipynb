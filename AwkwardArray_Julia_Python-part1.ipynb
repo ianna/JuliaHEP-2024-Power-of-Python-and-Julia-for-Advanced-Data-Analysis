{
 "cells": [
  {
   "cell_type": "markdown",
   "id": "0862e7ab-3311-4eaf-a7bf-7c09b057e231",
   "metadata": {},
   "source": [
    "# Power of Python and Julia for Advanced Data Analysis\n",
    "\n",
    "Python and Julia are two powerful languages that are transforming data analysis in high-energy physics (HEP).\n",
    "\n",
    "## Part 1: Analysis example in Python\n",
    "\n",
    "Let's start by exploring why Python remains a go-to language for data analysis, and then pivot to Julia, which is gaining recognition for its impressive speed and suitability for scientific applications."
   ]
  },
  {
   "cell_type": "code",
   "execution_count": null,
   "id": "5f92cd1c-7776-4f7c-b4dc-caf01376f6c1",
   "metadata": {},
   "outputs": [],
   "source": [
    "import awkward as ak"
   ]
  },
  {
   "cell_type": "markdown",
   "id": "fc372be6-5657-4233-aec1-525c71abf732",
   "metadata": {},
   "source": [
    "It is important to set your Python environment and install all needed Python packages first.\n",
    "\n",
    "For example, to read data from a Parquet file you will need:\n",
    "```\n",
    "pip install parquet\n",
    "pip install pyarrow\n",
    "pip install pandas\n",
    "```"
   ]
  },
  {
   "cell_type": "code",
   "execution_count": null,
   "id": "75bb11ff-7281-4942-96ff-dcb5d70eecde",
   "metadata": {},
   "outputs": [],
   "source": [
    "events = ak.from_parquet(\"./data/SMHiggsToZZTo4L.parquet\")"
   ]
  },
  {
   "cell_type": "code",
   "execution_count": null,
   "id": "8e7f2a06-659a-469f-9690-e84368a61fba",
   "metadata": {},
   "outputs": [],
   "source": [
    "%%timeit\n",
    "ak.from_parquet(\"./data/SMHiggsToZZTo4L.parquet\")"
   ]
  },
  {
   "cell_type": "code",
   "execution_count": null,
   "id": "c8bdcfb0-4a88-4112-b8d2-677c51f745ee",
   "metadata": {},
   "outputs": [],
   "source": [
    "muplus = events.muon[events.muon.charge > 0]\n",
    "muminus = events.muon[events.muon.charge < 0]"
   ]
  },
  {
   "cell_type": "code",
   "execution_count": null,
   "id": "02a76b90-5591-43f7-91a1-47a95869d3be",
   "metadata": {},
   "outputs": [],
   "source": [
    "%%timeit\n",
    "events.muon[events.muon.charge > 0]"
   ]
  },
  {
   "cell_type": "code",
   "execution_count": null,
   "id": "47a94628-fac7-4643-b9e5-3cc7584406a6",
   "metadata": {},
   "outputs": [],
   "source": [
    "%%timeit\n",
    "events.muon[events.muon.charge < 0]"
   ]
  },
  {
   "cell_type": "code",
   "execution_count": null,
   "id": "ecf741bf-f4c8-4be0-bd69-c303ee5d6cfe",
   "metadata": {},
   "outputs": [],
   "source": [
    "mu1, mu2 = ak.unzip(ak.cartesian((muplus, muminus)))"
   ]
  },
  {
   "cell_type": "code",
   "execution_count": null,
   "id": "529db95c-9f69-4a89-897d-d6c316ed9c78",
   "metadata": {},
   "outputs": [],
   "source": [
    "%%timeit\n",
    "ak.unzip(ak.cartesian((muplus, muminus)))"
   ]
  },
  {
   "cell_type": "code",
   "execution_count": null,
   "id": "059365a3-ce72-468a-bc8d-45e705fedae3",
   "metadata": {},
   "outputs": [],
   "source": [
    "import matplotlib.pyplot as plt\n",
    "import numpy as np\n",
    "\n",
    "import vector\n",
    "vector.register_awkward()"
   ]
  },
  {
   "cell_type": "code",
   "execution_count": null,
   "id": "7eba90c1-7c21-4cbf-a1c7-b837155ff236",
   "metadata": {},
   "outputs": [],
   "source": [
    "%%timeit\n",
    "plt.hist(ak.ravel(\n",
    "    \n",
    "    (mu1 + mu2).mass\n",
    "\n",
    "), bins=100, range=(0, 100));"
   ]
  },
  {
   "cell_type": "markdown",
   "id": "e6108f12-f004-41f6-b99b-d4b4001bb684",
   "metadata": {},
   "source": [
    "Let's go to the next [notebook](AwkwardArray_Julia_Python-part2.ipynb)."
   ]
  }
 ],
 "metadata": {
  "kernelspec": {
   "display_name": "Python 3 (ipykernel)",
   "language": "python",
   "name": "python3"
  },
  "language_info": {
   "codemirror_mode": {
    "name": "ipython",
    "version": 3
   },
   "file_extension": ".py",
   "mimetype": "text/x-python",
   "name": "python",
   "nbconvert_exporter": "python",
   "pygments_lexer": "ipython3",
   "version": "3.12.6"
  }
 },
 "nbformat": 4,
 "nbformat_minor": 5
}
