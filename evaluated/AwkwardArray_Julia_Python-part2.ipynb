{
 "cells": [
  {
   "cell_type": "markdown",
   "id": "339e2b2b-a6ba-4f88-ae3e-ef6c87abc1d0",
   "metadata": {},
   "source": [
    "## Part 2: Embedding Julia into Python\n",
    "\n",
    "We can use PythonCall for integrating Python’s vast ecosystem into Julia projects and JuliaCall for embedding high-performance Julia code into Python scripts.\n",
    "\n",
    "You’ll see how easy it is to blend these languages and why it’s worth the effort."
   ]
  },
  {
   "cell_type": "code",
   "execution_count": 1,
   "id": "7392febe-cc77-4a8b-9324-2e5e9d831afc",
   "metadata": {},
   "outputs": [
    {
     "name": "stdout",
     "output_type": "stream",
     "text": [
      "Detected IPython. Loading juliacall extension. See https://juliapy.github.io/PythonCall.jl/stable/compat/#IPython\n"
     ]
    }
   ],
   "source": [
    "from juliacall import Main as jl"
   ]
  },
  {
   "cell_type": "code",
   "execution_count": 2,
   "id": "eca7bb8f-59df-4340-ba75-f40c8dd5b259",
   "metadata": {},
   "outputs": [
    {
     "name": "stderr",
     "output_type": "stream",
     "text": [
      "WARNING: replacing module _ipython.\n"
     ]
    }
   ],
   "source": [
    "%load_ext juliacall"
   ]
  },
  {
   "cell_type": "code",
   "execution_count": 3,
   "id": "aaf0b731-c848-46dc-bba3-af36fc5da137",
   "metadata": {},
   "outputs": [],
   "source": [
    "%julia using Pkg"
   ]
  },
  {
   "cell_type": "code",
   "execution_count": 4,
   "id": "9af7fb9d-c770-4cda-8414-bb0091b97e49",
   "metadata": {},
   "outputs": [
    {
     "name": "stderr",
     "output_type": "stream",
     "text": [
      "   Resolving package versions...\n",
      "  No Changes to `~/anaconda3/envs/julia_hep_2024/julia_env/Project.toml`\n",
      "  No Changes to `~/anaconda3/envs/julia_hep_2024/julia_env/Manifest.toml`\n"
     ]
    }
   ],
   "source": [
    "%julia Pkg.add(\"UnROOT\")"
   ]
  },
  {
   "cell_type": "code",
   "execution_count": 5,
   "id": "364af5a2-6ca8-476e-be43-28073876057e",
   "metadata": {},
   "outputs": [],
   "source": [
    "%julia using UnROOT"
   ]
  },
  {
   "cell_type": "code",
   "execution_count": 6,
   "id": "1f36f4cc-72d0-4bc2-a36e-0b4f433ede92",
   "metadata": {},
   "outputs": [],
   "source": [
    "file = jl.Main.ROOTFile(\"./data/SMHiggsToZZTo4L.root\")"
   ]
  },
  {
   "cell_type": "code",
   "execution_count": 7,
   "id": "f0e9beef-9bab-4449-b101-0f1f3b207040",
   "metadata": {},
   "outputs": [
    {
     "name": "stdout",
     "output_type": "stream",
     "text": [
      "907 μs ± 14.7 μs per loop (mean ± std. dev. of 7 runs, 1,000 loops each)\n"
     ]
    }
   ],
   "source": [
    "%%timeit\n",
    "jl.Main.ROOTFile(\"./data/SMHiggsToZZTo4L.root\")"
   ]
  },
  {
   "cell_type": "code",
   "execution_count": 8,
   "id": "dfef8fc2-af6a-4020-9935-5c06ee75788e",
   "metadata": {},
   "outputs": [
    {
     "data": {
      "text/plain": [
       "ROOTFile with 1 entry and 18 streamers.\n",
       "./data/SMHiggsToZZTo4L.root\n",
       "└─ Events (TTree)\n",
       "   ├─ \"run\"\n",
       "   ├─ \"luminosityBlock\"\n",
       "   ├─ \"event\"\n",
       "   ├─ \"⋮\"\n",
       "   ├─ \"Electron_dzErr\"\n",
       "   ├─ \"MET_pt\"\n",
       "   └─ \"MET_phi\"\n"
      ]
     },
     "execution_count": 8,
     "metadata": {},
     "output_type": "execute_result"
    }
   ],
   "source": [
    "file"
   ]
  },
  {
   "cell_type": "code",
   "execution_count": 9,
   "id": "a2cb9a3d-b347-4544-a938-e0da07676b59",
   "metadata": {},
   "outputs": [],
   "source": [
    "events = jl.Main.LazyTree(file, \"Events\")"
   ]
  },
  {
   "cell_type": "code",
   "execution_count": 10,
   "id": "c2775987-0010-4962-9c89-ad9aaaf61fd0",
   "metadata": {},
   "outputs": [
    {
     "name": "stdout",
     "output_type": "stream",
     "text": [
      "293 μs ± 14.8 μs per loop (mean ± std. dev. of 7 runs, 1,000 loops each)\n"
     ]
    }
   ],
   "source": [
    "%%timeit\n",
    "jl.Main.LazyTree(file, \"Events\")"
   ]
  },
  {
   "cell_type": "code",
   "execution_count": 11,
   "id": "80e6e6c2-8d50-4f6c-aa08-61d28834aaba",
   "metadata": {},
   "outputs": [
    {
     "data": {
      "text/plain": [
       "invariant_mass (generic function with 1 method)"
      ]
     },
     "execution_count": 11,
     "metadata": {},
     "output_type": "execute_result"
    }
   ],
   "source": [
    "jl.include('awkward_analyzer_functions.jl')"
   ]
  },
  {
   "cell_type": "markdown",
   "id": "dff7ffc5-7fd5-4433-884c-86d75f8891e5",
   "metadata": {},
   "source": [
    "```julia\n",
    "using AwkwardArray\n",
    "\n",
    "function make_record_array(events)\n",
    "    array = AwkwardArray.RecordArray(\n",
    "        NamedTuple{(:pt, :eta, :phi, :mass, :charge, :isolation)}((\n",
    "            AwkwardArray.from_iter(events.Muon_pt),\n",
    "            AwkwardArray.from_iter(events.Muon_eta), \n",
    "            AwkwardArray.from_iter(events.Muon_phi), \n",
    "            AwkwardArray.from_iter(events.Muon_mass), \n",
    "            AwkwardArray.from_iter(events.Muon_charge), \n",
    "            AwkwardArray.from_iter(events.Muon_pfRelIso03_all),\n",
    "        )\n",
    "    ))\n",
    "    return AwkwardArray.convert(array)\n",
    "end\n",
    "```"
   ]
  },
  {
   "cell_type": "code",
   "execution_count": 12,
   "id": "48c502c6-d0f1-4a67-959d-5d47e3e9fcc9",
   "metadata": {},
   "outputs": [],
   "source": [
    "muons = jl.make_record_array(events)"
   ]
  },
  {
   "cell_type": "code",
   "execution_count": 13,
   "id": "7ab844a3-d415-429d-a12c-2aeb190200db",
   "metadata": {},
   "outputs": [
    {
     "name": "stdout",
     "output_type": "stream",
     "text": [
      "CPU times: user 203 ms, sys: 15.8 ms, total: 219 ms\n",
      "Wall time: 218 ms\n"
     ]
    },
    {
     "data": {
      "text/html": [
       "<pre>[{pt: [63, 38.1, 4.05], eta: [-0.719, ..., -0.321], phi: [...], mass: ..., ...},\n",
       " {pt: [], eta: [], phi: [], mass: [], charge: [], isolation: []},\n",
       " {pt: [], eta: [], phi: [], mass: [], charge: [], isolation: []},\n",
       " {pt: [54.3, 23.5, ..., 8.39, 3.49], eta: [-1.06, ...], phi: [...], ...},\n",
       " {pt: [], eta: [], phi: [], mass: [], charge: [], isolation: []},\n",
       " {pt: [38.5, 47], eta: [0.315, -0.119], phi: [2.05, ...], mass: [...], ...},\n",
       " {pt: [4.45], eta: [-0.986], phi: [1.12], mass: [0.106], charge: [1], ...},\n",
       " {pt: [], eta: [], phi: [], mass: [], charge: [], isolation: []},\n",
       " {pt: [], eta: [], phi: [], mass: [], charge: [], isolation: []},\n",
       " {pt: [], eta: [], phi: [], mass: [], charge: [], isolation: []},\n",
       " ...,\n",
       " {pt: [37.2, 50.1], eta: [1.1, 0.412], phi: [-0.875, ...], mass: [...], ...},\n",
       " {pt: [43.2, 24], eta: [2.15, 0.421], phi: [-1.3, ...], mass: [...], ...},\n",
       " {pt: [24.2, 79.5], eta: [0.327, 0.79], phi: [-0.997, ...], mass: [...], ...},\n",
       " {pt: [], eta: [], phi: [], mass: [], charge: [], isolation: []},\n",
       " {pt: [9.81, 25.5], eta: [2.07, 1.04], phi: [1.66, ...], mass: [...], ...},\n",
       " {pt: [32.6, 43.1], eta: [1.11, -0.162], phi: [-0.981, ...], mass: [...], ...},\n",
       " {pt: [4.32, 4.36, 5.63, 4.75], eta: [-2.09, ...], phi: [...], mass: ..., ...},\n",
       " {pt: [], eta: [], phi: [], mass: [], charge: [], isolation: []},\n",
       " {pt: [], eta: [], phi: [], mass: [], charge: [], isolation: []}]\n",
       "--------------------------------------------------------------------------------\n",
       "type: 299973 * {\n",
       "    pt: var * float32,\n",
       "    eta: var * float32,\n",
       "    phi: var * float32,\n",
       "    mass: var * float32,\n",
       "    charge: var * int32,\n",
       "    isolation: var * float32\n",
       "}</pre>"
      ],
      "text/plain": [
       "<Array [{pt: [63, ...], eta: [...], ...}, ...] type='299973 * {pt: var * fl...'>"
      ]
     },
     "execution_count": 13,
     "metadata": {},
     "output_type": "execute_result"
    }
   ],
   "source": [
    "%%time\n",
    "jl.make_record_array(events)"
   ]
  },
  {
   "cell_type": "code",
   "execution_count": 14,
   "id": "c7eb6615-cf74-4770-9156-0fa514607f82",
   "metadata": {},
   "outputs": [
    {
     "name": "stdout",
     "output_type": "stream",
     "text": [
      "type: 299973 * {\n",
      "    pt: var * float32,\n",
      "    eta: var * float32,\n",
      "    phi: var * float32,\n",
      "    mass: var * float32,\n",
      "    charge: var * int32,\n",
      "    isolation: var * float32\n",
      "}\n",
      "[{pt: [63, 38.1, 4.05], eta: [-0.719, ..., -0.321], phi: [...], mass: ..., ...},\n",
      " {pt: [], eta: [], phi: [], mass: [], charge: [], isolation: []},\n",
      " {pt: [], eta: [], phi: [], mass: [], charge: [], isolation: []},\n",
      " {pt: [54.3, 23.5, ..., 8.39, 3.49], eta: [-1.06, ...], phi: [...], ...},\n",
      " {pt: [], eta: [], phi: [], mass: [], charge: [], isolation: []},\n",
      " {pt: [38.5, 47], eta: [0.315, -0.119], phi: [2.05, ...], mass: [...], ...},\n",
      " {pt: [4.45], eta: [-0.986], phi: [1.12], mass: [0.106], charge: [1], ...},\n",
      " {pt: [], eta: [], phi: [], mass: [], charge: [], isolation: []},\n",
      " {pt: [], eta: [], phi: [], mass: [], charge: [], isolation: []},\n",
      " {pt: [], eta: [], phi: [], mass: [], charge: [], isolation: []},\n",
      " ...,\n",
      " {pt: [37.2, 50.1], eta: [1.1, 0.412], phi: [-0.875, ...], mass: [...], ...},\n",
      " {pt: [43.2, 24], eta: [2.15, 0.421], phi: [-1.3, ...], mass: [...], ...},\n",
      " {pt: [24.2, 79.5], eta: [0.327, 0.79], phi: [-0.997, ...], mass: [...], ...},\n",
      " {pt: [], eta: [], phi: [], mass: [], charge: [], isolation: []},\n",
      " {pt: [9.81, 25.5], eta: [2.07, 1.04], phi: [1.66, ...], mass: [...], ...},\n",
      " {pt: [32.6, 43.1], eta: [1.11, -0.162], phi: [-0.981, ...], mass: [...], ...},\n",
      " {pt: [4.32, 4.36, 5.63, 4.75], eta: [-2.09, ...], phi: [...], mass: ..., ...},\n",
      " {pt: [], eta: [], phi: [], mass: [], charge: [], isolation: []},\n",
      " {pt: [], eta: [], phi: [], mass: [], charge: [], isolation: []}]\n"
     ]
    }
   ],
   "source": [
    "muons.show(type=True)"
   ]
  },
  {
   "cell_type": "code",
   "execution_count": 15,
   "id": "71f71210-a899-4074-bb0c-bc93e9166f25",
   "metadata": {},
   "outputs": [],
   "source": [
    "import awkward as ak"
   ]
  },
  {
   "cell_type": "code",
   "execution_count": 16,
   "id": "ee8d0cfb-cc1a-42fa-b3d4-1fa199bbb717",
   "metadata": {},
   "outputs": [],
   "source": [
    "muons = ak.zip({\n",
    "                \"pt\": muons.pt,\n",
    "                \"eta\": muons.eta,\n",
    "                \"phi\": muons.phi,\n",
    "                \"mass\": muons.mass,\n",
    "                \"charge\": muons.charge,\n",
    "                \"isolation\": muons.isolation,\n",
    "            },\n",
    "            with_name=\"PtEtaPhiMCandidate\",)"
   ]
  },
  {
   "cell_type": "code",
   "execution_count": 17,
   "id": "ec7f1f7c-ba38-4c37-adb9-39ee66491702",
   "metadata": {},
   "outputs": [],
   "source": [
    "cutflow = dict()\n",
    "\n",
    "# Sort muons by transverse momentum\n",
    "muons = muons[ak.argsort(muons.pt, axis=1)]\n",
    "\n",
    "cutflow[\"all events\"] = ak.num(muons, axis=0)\n",
    "\n",
    "# Quality and minimum pt cuts\n",
    "muons = muons[(muons.pt > 5) & (muons.isolation < 0.2)]\n",
    "cutflow[\"at least 4 good muons\"] = ak.sum(ak.num(muons) >= 4)"
   ]
  },
  {
   "cell_type": "code",
   "execution_count": 18,
   "id": "d4b55c7c-7cb8-4408-aaaa-f5ad2d100c7e",
   "metadata": {},
   "outputs": [],
   "source": [
    "# reduce first axis: skip events without enough muons\n",
    "muons = muons[ak.num(muons) >= 4]"
   ]
  },
  {
   "cell_type": "markdown",
   "id": "83022208-2f5e-49c7-b24e-d342c3fa8a6f",
   "metadata": {},
   "source": [
    "```julia\n",
    "four_muons = AwkwardArray.ListArray{\n",
    "    AwkwardArray.Index64,\n",
    "    AwkwardArray.ListArray{\n",
    "        AwkwardArray.Index64,\n",
    "        AwkwardArray.PrimitiveArray{Int64},\n",
    "    },\n",
    "}()\n",
    "\n",
    "function find_4lep(events_leptons)\n",
    "\n",
    "    for leptons in events_leptons\n",
    "        nlep = length(leptons)\n",
    "        for i0 in 1:nlep\n",
    "            for i1 in (i0 + 1):nlep\n",
    "                if leptons[i0][:charge] + leptons[i1][:charge] != 0\n",
    "                    continue\n",
    "                end\n",
    "                for i2 in 1:nlep\n",
    "                    for i3 in (i2 + 1):nlep\n",
    "                        if length(Set([i0, i1, i2, i3])) < 4\n",
    "                            continue\n",
    "                        end\n",
    "                        if leptons[i2][:charge] + leptons[i3][:charge] != 0\n",
    "                            continue\n",
    "                        end\n",
    "                        \n",
    "                        push!(four_muons.content.content, (i0 - 1)) # Julia is 1-based, subtract 1 for 0-based indexing\n",
    "                        push!(four_muons.content.content, (i1 - 1))\n",
    "                        push!(four_muons.content.content, (i2 - 1))\n",
    "                        push!(four_muons.content.content, (i3 - 1))\n",
    "                        AwkwardArray.end_list!(four_muons.content)\n",
    "                    end\n",
    "                end\n",
    "            end \n",
    "        end\n",
    "        AwkwardArray.end_list!(four_muons)\n",
    "    end\n",
    "    return four_muons\n",
    "end\n",
    "\n",
    "```"
   ]
  },
  {
   "cell_type": "code",
   "execution_count": 19,
   "id": "0cecaa74-9d23-4223-bef3-616ce53ad7cb",
   "metadata": {},
   "outputs": [],
   "source": [
    "good_four_muons = jl.find_4lep(muons[1:10])"
   ]
  },
  {
   "cell_type": "code",
   "execution_count": 20,
   "id": "bae4e004-5764-48ed-a58b-6e3736eac017",
   "metadata": {},
   "outputs": [],
   "source": [
    "good_four_muons = jl.find_4lep(muons)"
   ]
  },
  {
   "cell_type": "code",
   "execution_count": 21,
   "id": "3aa38376-24b6-4dde-9a2f-d9bf5923fa6a",
   "metadata": {},
   "outputs": [
    {
     "name": "stdout",
     "output_type": "stream",
     "text": [
      "CPU times: user 274 ms, sys: 7.73 ms, total: 282 ms\n",
      "Wall time: 282 ms\n"
     ]
    },
    {
     "data": {
      "text/plain": [
       "29917-element AwkwardArray.ListArray{Vector{Int64}, AwkwardArray.ListArray{Vector{Int64}, AwkwardArray.PrimitiveArray{Int64, Vector{Int64}, :default}, :default}, :default}:\n",
       " [[0, 1, 2, 3], [0, 3, 1, 2], [1, 2, 0, 3], [2, 3, 0, 1]]\n",
       " [[0, 1, 2, 3], [0, 3, 1, 2], [1, 2, 0, 3], [2, 3, 0, 1]]\n",
       " [[0, 1, 2, 3], [0, 3, 1, 2], [1, 2, 0, 3], [2, 3, 0, 1]]\n",
       " [[0, 1, 2, 3], [0, 2, 1, 3], [1, 3, 0, 2], [2, 3, 0, 1]]\n",
       " [[0, 2, 1, 3], [0, 3, 1, 2], [1, 2, 0, 3], [1, 3, 0, 2]]\n",
       " [[0, 1, 2, 3], [0, 3, 1, 2], [1, 2, 0, 3], [2, 3, 0, 1]]\n",
       " [[0, 2, 1, 3], [0, 3, 1, 2], [1, 2, 0, 3], [1, 3, 0, 2]]\n",
       " [[0, 1, 2, 3], [0, 3, 1, 2], [1, 2, 0, 3], [2, 3, 0, 1]]\n",
       " [[0, 2, 1, 4], [0, 2, 3, 4], [0, 4, 1, 2], ..., [3, 4, 0, 2], [3, 4, 1, 2]]\n",
       " 0-element AwkwardArray.ListArray{Vector{Int64}, AwkwardArray.PrimitiveArray{Int64, Vector{Int64}, :default}, :default}\n",
       " ⋮\n",
       " [[0, 1, 2, 3], [0, 3, 1, 2], [1, 2, 0, 3], [2, 3, 0, 1]]\n",
       " [[0, 1, 2, 3], [0, 2, 1, 3], [1, 3, 0, 2], [2, 3, 0, 1]]\n",
       " [[0, 2, 1, 3], [0, 3, 1, 2], [1, 2, 0, 3], [1, 3, 0, 2]]\n",
       " [[0, 2, 1, 3], [0, 3, 1, 2], [1, 2, 0, 3], [1, 3, 0, 2]]\n",
       " [[0, 1, 2, 3], [0, 3, 1, 2], [1, 2, 0, 3], [2, 3, 0, 1]]\n",
       " 0-element AwkwardArray.ListArray{Vector{Int64}, AwkwardArray.PrimitiveArray{Int64, Vector{Int64}, :default}, :default}\n",
       " [[0, 1, 2, 3], [0, 2, 1, 3], [1, 3, 0, 2], [2, 3, 0, 1]]\n",
       " [[0, 1, 2, 3], [0, 2, 1, 3], [1, 3, 0, 2], [2, 3, 0, 1]]\n",
       " [[0, 1, 2, 3], [0, 3, 1, 2], [1, 2, 0, 3], [2, 3, 0, 1]]"
      ]
     },
     "execution_count": 21,
     "metadata": {},
     "output_type": "execute_result"
    }
   ],
   "source": [
    "%%time\n",
    "jl.find_4lep(muons)"
   ]
  },
  {
   "cell_type": "code",
   "execution_count": 22,
   "id": "806ab526-c493-45c5-bea1-214daca87737",
   "metadata": {},
   "outputs": [],
   "source": [
    "fourmuon = jl.AwkwardArray.convert(good_four_muons)"
   ]
  },
  {
   "cell_type": "code",
   "execution_count": 23,
   "id": "0733f409-81e7-4425-88d7-eb661c41731a",
   "metadata": {},
   "outputs": [
    {
     "name": "stdout",
     "output_type": "stream",
     "text": [
      "type: 29917 * var * var * int64\n",
      "[[[0, 1, 2, 3], [0, 3, 1, 2], [1, 2, 0, 3], [2, 3, 0, 1]],\n",
      " [[0, 1, 2, 3], [0, 3, 1, 2], [1, 2, 0, 3], [2, 3, 0, 1]],\n",
      " [[0, 1, 2, 3], [0, 3, 1, 2], [1, 2, 0, 3], [2, 3, 0, 1]],\n",
      " [[0, 1, 2, 3], [0, 2, 1, 3], [1, 3, 0, 2], [2, 3, 0, 1]],\n",
      " [[0, 2, 1, 3], [0, 3, 1, 2], [1, 2, 0, 3], [1, 3, 0, 2]],\n",
      " [[0, 1, 2, 3], [0, 3, 1, 2], [1, 2, 0, 3], [2, 3, 0, 1]],\n",
      " [[0, 2, 1, 3], [0, 3, 1, 2], [1, 2, 0, 3], [1, 3, 0, 2]],\n",
      " [[0, 1, 2, 3], [0, 3, 1, 2], [1, 2, 0, 3], [2, 3, 0, 1]],\n",
      " [[0, 2, 1, 4], [0, 2, 3, 4], [0, 4, ..., 2], ..., [3, 4, 0, 2], [3, 4, 1, 2]],\n",
      " [],\n",
      " ...,\n",
      " [[0, 1, 2, 3], [0, 3, 1, 2], [1, 2, 0, 3], [2, 3, 0, 1]],\n",
      " [[0, 1, 2, 3], [0, 2, 1, 3], [1, 3, 0, 2], [2, 3, 0, 1]],\n",
      " [[0, 2, 1, 3], [0, 3, 1, 2], [1, 2, 0, 3], [1, 3, 0, 2]],\n",
      " [[0, 2, 1, 3], [0, 3, 1, 2], [1, 2, 0, 3], [1, 3, 0, 2]],\n",
      " [[0, 1, 2, 3], [0, 3, 1, 2], [1, 2, 0, 3], [2, 3, 0, 1]],\n",
      " [],\n",
      " [[0, 1, 2, 3], [0, 2, 1, 3], [1, 3, 0, 2], [2, 3, 0, 1]],\n",
      " [[0, 1, 2, 3], [0, 2, 1, 3], [1, 3, 0, 2], [2, 3, 0, 1]],\n",
      " [[0, 1, 2, 3], [0, 3, 1, 2], [1, 2, 0, 3], [2, 3, 0, 1]]]\n"
     ]
    }
   ],
   "source": [
    "fourmuon.show(type=True)"
   ]
  },
  {
   "cell_type": "markdown",
   "id": "0875b0e2-5fa2-476f-97f6-d40618782858",
   "metadata": {},
   "source": [
    "Let's go to the next [notebook](AwkwardArray_Julia_Python-part3.ipynb)."
   ]
  }
 ],
 "metadata": {
  "kernelspec": {
   "display_name": "Python 3 (ipykernel)",
   "language": "python",
   "name": "python3"
  },
  "language_info": {
   "codemirror_mode": {
    "name": "ipython",
    "version": 3
   },
   "file_extension": ".py",
   "mimetype": "text/x-python",
   "name": "python",
   "nbconvert_exporter": "python",
   "pygments_lexer": "ipython3",
   "version": "3.12.6"
  }
 },
 "nbformat": 4,
 "nbformat_minor": 5
}
