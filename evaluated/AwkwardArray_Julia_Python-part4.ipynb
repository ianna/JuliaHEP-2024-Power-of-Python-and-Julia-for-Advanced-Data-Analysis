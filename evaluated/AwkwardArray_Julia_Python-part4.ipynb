{
 "cells": [
  {
   "cell_type": "markdown",
   "id": "094265ee-de14-420d-9d18-58f603e54ed8",
   "metadata": {},
   "source": [
    "##  Part 4: Faster, more efficient data processing\n",
    "\n",
    "Let's combine Python and Julia:"
   ]
  },
  {
   "cell_type": "code",
   "execution_count": 1,
   "id": "1a59da0b-dcdd-4e64-a091-d84fdccc32f6",
   "metadata": {},
   "outputs": [
    {
     "name": "stdout",
     "output_type": "stream",
     "text": [
      "Detected IPython. Loading juliacall extension. See https://juliapy.github.io/PythonCall.jl/stable/compat/#IPython\n"
     ]
    }
   ],
   "source": [
    "from juliacall import Main as jl"
   ]
  },
  {
   "cell_type": "code",
   "execution_count": 2,
   "id": "570a4461-31dc-4d75-968d-71eb0861384c",
   "metadata": {},
   "outputs": [
    {
     "name": "stderr",
     "output_type": "stream",
     "text": [
      "WARNING: replacing module _ipython.\n"
     ]
    }
   ],
   "source": [
    "%load_ext juliacall"
   ]
  },
  {
   "cell_type": "code",
   "execution_count": 3,
   "id": "057b1f78-b0e9-4269-9db6-9ee724823232",
   "metadata": {},
   "outputs": [
    {
     "name": "stderr",
     "output_type": "stream",
     "text": [
      "   Resolving package versions...\n",
      "  No Changes to `~/anaconda3/envs/julia_hep_2024/julia_env/Project.toml`\n",
      "  No Changes to `~/anaconda3/envs/julia_hep_2024/julia_env/Manifest.toml`\n"
     ]
    }
   ],
   "source": [
    "%%julia\n",
    "\n",
    "using Pkg\n",
    "Pkg.add(\"UnROOT\")\n",
    "using UnROOT\n",
    "using AwkwardArray"
   ]
  },
  {
   "cell_type": "code",
   "execution_count": 4,
   "id": "846ec345-6856-42b1-879b-ee3ea0e6c757",
   "metadata": {},
   "outputs": [],
   "source": [
    "tree = jl.Main.ROOTFile(\"./data/SMHiggsToZZTo4L.root\")"
   ]
  },
  {
   "cell_type": "code",
   "execution_count": 5,
   "id": "30f8b3d9-e551-4f33-ac02-c3d95f873564",
   "metadata": {},
   "outputs": [
    {
     "data": {
      "text/plain": [
       "ROOTFile with 1 entry and 18 streamers.\n",
       "./data/SMHiggsToZZTo4L.root\n",
       "└─ Events (TTree)\n",
       "   ├─ \"run\"\n",
       "   ├─ \"luminosityBlock\"\n",
       "   ├─ \"event\"\n",
       "   ├─ \"⋮\"\n",
       "   ├─ \"Electron_dzErr\"\n",
       "   ├─ \"MET_pt\"\n",
       "   └─ \"MET_phi\"\n"
      ]
     },
     "execution_count": 5,
     "metadata": {},
     "output_type": "execute_result"
    }
   ],
   "source": [
    "tree"
   ]
  },
  {
   "cell_type": "code",
   "execution_count": 6,
   "id": "11194386-10c0-4161-b25b-348f0f6c8fd2",
   "metadata": {},
   "outputs": [],
   "source": [
    "events = jl.Main.LazyTree(tree, \"Events\")"
   ]
  },
  {
   "cell_type": "code",
   "execution_count": 7,
   "id": "ca3856e9-bd47-4630-8995-f1f5d8b965c8",
   "metadata": {},
   "outputs": [
    {
     "data": {
      "text/plain": [
       " Row │ Electron_mass    nElectron  luminosityBlock  nMuon   Electron_phi     M ⋯\n",
       "     │ SubArray{Float3  UInt32     UInt32           UInt32  SubArray{Float3  F ⋯\n",
       "─────┼──────────────────────────────────────────────────────────────────────────\n",
       " 1   │ []               0          156              3       []               - ⋯\n",
       " 2   │ [0.00544,        4          156              0       [0.134, -1       2 ⋯\n",
       " 3   │ [-0.00609,       2          156              0       [2.18, 1.6       - ⋯\n",
       " 4   │ [-0.00123]       1          156              7       [-0.643]         - ⋯\n",
       " 5   │ [0.0117, 0       4          156              0       [1.01, -1.       1 ⋯\n",
       " 6   │ [-0.00183]       1          156              2       [-0.497]         - ⋯\n",
       " 7   │ [-0.00183]       1          156              1       [-1.47]          - ⋯\n",
       " 8   │ [-0.00216]       1          156              0       [-0.633]         - ⋯\n",
       " 9   │ [-0.0128,        4          156              0       [2.79, -2.       - ⋯\n",
       " 10  │ []               0          156              0       []               - ⋯\n",
       " 11  │ [-0.00119,       2          156              1       [2.28, -2.       0 ⋯\n",
       " 12  │ [0.00608,        3          156              2       [-1.31, -1       2 ⋯\n",
       " 13  │ [-0.00765,       4          156              0       [2.52, -3.       - ⋯\n",
       " 14  │ []               0          156              2       []               - ⋯\n",
       " 15  │ []               0          156              0       []               - ⋯\n",
       "  ⋮  │        ⋮             ⋮             ⋮           ⋮            ⋮           ⋱\n",
       "                                              27 columns and 299958 rows omitted\n"
      ]
     },
     "execution_count": 7,
     "metadata": {},
     "output_type": "execute_result"
    }
   ],
   "source": [
    "events"
   ]
  },
  {
   "cell_type": "code",
   "execution_count": 8,
   "id": "c522b731-1f22-4bf8-945c-6559a77a1b2b",
   "metadata": {},
   "outputs": [],
   "source": [
    "jl.events = events"
   ]
  },
  {
   "cell_type": "code",
   "execution_count": 9,
   "id": "038dff90-45e3-4648-bd5d-53958975ec02",
   "metadata": {},
   "outputs": [
    {
     "data": {
      "text/plain": [
       "4-element Vector{Vector{Int32}}:\n",
       " [1, -1, 1]\n",
       " []\n",
       " []\n",
       " [1, -1, -1, 1, -1, -1, 1]"
      ]
     },
     "execution_count": 9,
     "metadata": {},
     "output_type": "execute_result"
    }
   ],
   "source": [
    "%%julia\n",
    "\n",
    "first(events.Muon_charge, 4)"
   ]
  },
  {
   "cell_type": "code",
   "execution_count": 10,
   "id": "6f322f2b-7fe9-4350-8f1b-aba5852e1f24",
   "metadata": {},
   "outputs": [
    {
     "data": {
      "text/plain": [
       "3-element Vector{LorentzVectorCyl{Float32}}:\n",
       " LorentzVectorCyl{Float32}(pt=63.04387, eta=-0.7186822, phi=2.968006, mass=0.10565837)\n",
       " LorentzVectorCyl{Float32}(pt=38.120346, eta=-0.879457, phi=-1.032475, mass=0.10565837)\n",
       " LorentzVectorCyl{Float32}(pt=4.0486875, eta=-0.32076442, phi=1.0385035, mass=0.10565837)"
      ]
     },
     "execution_count": 10,
     "metadata": {},
     "output_type": "execute_result"
    }
   ],
   "source": [
    "%%julia\n",
    "\n",
    "using LorentzVectorHEP\n",
    "one_event = first(events);\n",
    "\n",
    "# destruct syntax sugar\n",
    "(; Muon_pt, Muon_eta, Muon_phi, Muon_mass) = one_event\n",
    "\n",
    "muons = LorentzVectorCyl.(Muon_pt, Muon_eta, Muon_phi, Muon_mass)\n"
   ]
  },
  {
   "cell_type": "code",
   "execution_count": 11,
   "id": "fb33e06e-a7a3-45d8-84fd-ddbeb7beb2f5",
   "metadata": {},
   "outputs": [
    {
     "data": {
      "text/plain": [
       "main_looper (generic function with 1 method)"
      ]
     },
     "execution_count": 11,
     "metadata": {},
     "output_type": "execute_result"
    }
   ],
   "source": [
    "%%julia\n",
    "\n",
    "function main_looper(events)\n",
    "    array = AwkwardArray.PrimitiveArray{Float64}()\n",
    "    for evt in events\n",
    "\n",
    "        (; Muon_charge) = evt\n",
    "        if length(Muon_charge) != 4\n",
    "            continue\n",
    "        end\n",
    "        sum(Muon_charge) != 0 && continue # shortcut if-else\n",
    "        \n",
    "        (; Muon_pt, Muon_eta, Muon_phi, Muon_mass) = evt\n",
    "        higgs_4vector = sum(LorentzVectorCyl.(Muon_pt, Muon_eta, Muon_phi, Muon_mass))\n",
    "        higgs_mass = mass(higgs_4vector)\n",
    "        \n",
    "        push!(array, higgs_mass)\n",
    "    end\n",
    "    \n",
    "    return array\n",
    "end"
   ]
  },
  {
   "cell_type": "code",
   "execution_count": 12,
   "id": "90001d5e-e73b-4c99-9d80-4393a97a1c35",
   "metadata": {},
   "outputs": [
    {
     "name": "stdout",
     "output_type": "stream",
     "text": [
      "  0.398615 seconds (398.56 k allocations: 77.554 MiB, 3.85% gc time, 83.91% compilation time)\n"
     ]
    },
    {
     "data": {
      "text/plain": [
       "20525-element AwkwardArray.PrimitiveArray{Float64, Vector{Float64}, :default}:\n",
       " 125.12303161621094\n",
       " 123.90653991699219\n",
       " 124.15757751464844\n",
       " 122.6549301147461\n",
       " 125.26071166992188\n",
       " 124.77593994140625\n",
       " 124.20553588867188\n",
       " 124.42249298095703\n",
       " 110.03680419921875\n",
       " 124.46846008300781\n",
       "   ⋮\n",
       " 127.15644836425781\n",
       "  70.50875091552734\n",
       " 127.02130126953125\n",
       " 124.43931579589844\n",
       " 125.2630615234375\n",
       "  83.22042083740234\n",
       " 124.33792114257812\n",
       " 114.71159362792969\n",
       " 117.13601684570312"
      ]
     },
     "execution_count": 12,
     "metadata": {},
     "output_type": "execute_result"
    }
   ],
   "source": [
    "%%julia\n",
    "\n",
    "array = @time main_looper(events)"
   ]
  },
  {
   "cell_type": "code",
   "execution_count": 13,
   "id": "25bd07a2-32d6-4bbf-953a-74bd0826bc32",
   "metadata": {},
   "outputs": [
    {
     "data": {
      "image/png": "[encoded data removed]",
      "text/plain": [
       "<Figure size 640x480 with 1 Axes>"
      ]
     },
     "metadata": {},
     "output_type": "display_data"
    }
   ],
   "source": [
    "import matplotlib.pyplot as plt\n",
    "plt.hist(jl.array, bins=100, range=(90, 140));"
   ]
  },
  {
   "cell_type": "code",
   "execution_count": null,
   "id": "251e2842-4171-4cab-87fd-3210e14a3801",
   "metadata": {},
   "outputs": [],
   "source": []
  }
 ],
 "metadata": {
  "kernelspec": {
   "display_name": "Python 3 (ipykernel)",
   "language": "python",
   "name": "python3"
  },
  "language_info": {
   "codemirror_mode": {
    "name": "ipython",
    "version": 3
   },
   "file_extension": ".py",
   "mimetype": "text/x-python",
   "name": "python",
   "nbconvert_exporter": "python",
   "pygments_lexer": "ipython3",
   "version": "3.12.6"
  }
 },
 "nbformat": 4,
 "nbformat_minor": 5
}
