{
 "cells": [
  {
   "cell_type": "markdown",
   "id": "094265ee-de14-420d-9d18-58f603e54ed8",
   "metadata": {},
   "source": [
    "##  Part 4: Faster, more efficient data processing\n",
    "\n",
    "Let's combine Python and Julia:"
   ]
  },
  {
   "cell_type": "code",
   "execution_count": null,
   "id": "1a59da0b-dcdd-4e64-a091-d84fdccc32f6",
   "metadata": {},
   "outputs": [],
   "source": [
    "from juliacall import Main as jl"
   ]
  },
  {
   "cell_type": "code",
   "execution_count": null,
   "id": "570a4461-31dc-4d75-968d-71eb0861384c",
   "metadata": {},
   "outputs": [],
   "source": [
    "%load_ext juliacall"
   ]
  },
  {
   "cell_type": "code",
   "execution_count": null,
   "id": "057b1f78-b0e9-4269-9db6-9ee724823232",
   "metadata": {},
   "outputs": [],
   "source": [
    "%%julia\n",
    "\n",
    "using Pkg\n",
    "Pkg.add(\"UnROOT\")\n",
    "using UnROOT\n",
    "using AwkwardArray"
   ]
  },
  {
   "cell_type": "code",
   "execution_count": null,
   "id": "846ec345-6856-42b1-879b-ee3ea0e6c757",
   "metadata": {},
   "outputs": [],
   "source": [
    "tree = jl.Main.ROOTFile(\"./data/SMHiggsToZZTo4L.root\")"
   ]
  },
  {
   "cell_type": "code",
   "execution_count": null,
   "id": "30f8b3d9-e551-4f33-ac02-c3d95f873564",
   "metadata": {},
   "outputs": [],
   "source": [
    "tree"
   ]
  },
  {
   "cell_type": "code",
   "execution_count": null,
   "id": "11194386-10c0-4161-b25b-348f0f6c8fd2",
   "metadata": {},
   "outputs": [],
   "source": [
    "events = jl.Main.LazyTree(tree, \"Events\")"
   ]
  },
  {
   "cell_type": "code",
   "execution_count": null,
   "id": "ca3856e9-bd47-4630-8995-f1f5d8b965c8",
   "metadata": {},
   "outputs": [],
   "source": [
    "events"
   ]
  },
  {
   "cell_type": "code",
   "execution_count": null,
   "id": "c522b731-1f22-4bf8-945c-6559a77a1b2b",
   "metadata": {},
   "outputs": [],
   "source": [
    "jl.events = events"
   ]
  },
  {
   "cell_type": "code",
   "execution_count": null,
   "id": "038dff90-45e3-4648-bd5d-53958975ec02",
   "metadata": {},
   "outputs": [],
   "source": [
    "%%julia\n",
    "\n",
    "first(events.Muon_charge, 4)"
   ]
  },
  {
   "cell_type": "code",
   "execution_count": null,
   "id": "6f322f2b-7fe9-4350-8f1b-aba5852e1f24",
   "metadata": {},
   "outputs": [],
   "source": [
    "%%julia\n",
    "\n",
    "using LorentzVectorHEP\n",
    "one_event = first(events);\n",
    "\n",
    "# destruct syntax sugar\n",
    "(; Muon_pt, Muon_eta, Muon_phi, Muon_mass) = one_event\n",
    "\n",
    "muons = LorentzVectorCyl.(Muon_pt, Muon_eta, Muon_phi, Muon_mass)\n"
   ]
  },
  {
   "cell_type": "code",
   "execution_count": null,
   "id": "fb33e06e-a7a3-45d8-84fd-ddbeb7beb2f5",
   "metadata": {},
   "outputs": [],
   "source": [
    "%%julia\n",
    "\n",
    "function main_looper(events)\n",
    "    array = AwkwardArray.PrimitiveArray{Float64}()\n",
    "    for evt in events\n",
    "\n",
    "        (; Muon_charge) = evt\n",
    "        if length(Muon_charge) != 4\n",
    "            continue\n",
    "        end\n",
    "        sum(Muon_charge) != 0 && continue # shortcut if-else\n",
    "        \n",
    "        (; Muon_pt, Muon_eta, Muon_phi, Muon_mass) = evt\n",
    "        higgs_4vector = sum(LorentzVectorCyl.(Muon_pt, Muon_eta, Muon_phi, Muon_mass))\n",
    "        higgs_mass = mass(higgs_4vector)\n",
    "        \n",
    "        push!(array, higgs_mass)\n",
    "    end\n",
    "    \n",
    "    return array\n",
    "end"
   ]
  },
  {
   "cell_type": "code",
   "execution_count": null,
   "id": "90001d5e-e73b-4c99-9d80-4393a97a1c35",
   "metadata": {},
   "outputs": [],
   "source": [
    "%%julia\n",
    "\n",
    "array = @time main_looper(events)"
   ]
  },
  {
   "cell_type": "code",
   "execution_count": null,
   "id": "25bd07a2-32d6-4bbf-953a-74bd0826bc32",
   "metadata": {},
   "outputs": [],
   "source": [
    "import matplotlib.pyplot as plt\n",
    "plt.hist(jl.array, bins=100, range=(90, 140));"
   ]
  }
 ],
 "metadata": {
  "kernelspec": {
   "display_name": "Python 3 (ipykernel)",
   "language": "python",
   "name": "python3"
  },
  "language_info": {
   "codemirror_mode": {
    "name": "ipython",
    "version": 3
   },
   "file_extension": ".py",
   "mimetype": "text/x-python",
   "name": "python",
   "nbconvert_exporter": "python",
   "pygments_lexer": "ipython3",
   "version": "3.12.6"
  }
 },
 "nbformat": 4,
 "nbformat_minor": 5
}
